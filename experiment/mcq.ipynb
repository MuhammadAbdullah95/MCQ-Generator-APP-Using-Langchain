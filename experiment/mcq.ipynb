{
 "cells": [
  {
   "cell_type": "code",
   "execution_count": 1,
   "metadata": {},
   "outputs": [],
   "source": [
    "import os\n",
    "import json\n",
    "import pandas as pd\n",
    "import traceback"
   ]
  },
  {
   "cell_type": "code",
   "execution_count": 2,
   "metadata": {},
   "outputs": [
    {
     "data": {
      "text/plain": [
       "True"
      ]
     },
     "execution_count": 2,
     "metadata": {},
     "output_type": "execute_result"
    }
   ],
   "source": [
    "from dotenv import load_dotenv\n",
    "load_dotenv()"
   ]
  },
  {
   "cell_type": "code",
   "execution_count": 3,
   "metadata": {},
   "outputs": [],
   "source": [
    "from langchain_groq import ChatGroq"
   ]
  },
  {
   "cell_type": "code",
   "execution_count": 4,
   "metadata": {},
   "outputs": [],
   "source": [
    "GROQ_API_KEY = os.getenv('GROQ_API_KEY')"
   ]
  },
  {
   "cell_type": "code",
   "execution_count": 6,
   "metadata": {},
   "outputs": [],
   "source": [
    "llm = ChatGroq(\n",
    "    temperature=0,\n",
    "    groq_api_key=GROQ_API_KEY,\n",
    "    model_name=\"llama-3.3-70b-versatile\",\n",
    ")"
   ]
  },
  {
   "cell_type": "code",
   "execution_count": 7,
   "metadata": {},
   "outputs": [
    {
     "data": {
      "text/plain": [
       "AIMessage(content=\"It's nice to meet you. Is there something I can help you with or would you like to chat?\", additional_kwargs={}, response_metadata={'token_usage': {'completion_tokens': 23, 'prompt_tokens': 36, 'total_tokens': 59, 'completion_time': 0.083636364, 'prompt_time': 0.007315562, 'queue_time': 0.018162004, 'total_time': 0.090951926}, 'model_name': 'llama-3.3-70b-versatile', 'system_fingerprint': 'fp_4e32347616', 'finish_reason': 'stop', 'logprobs': None}, id='run-34d35480-40e0-474b-8cdd-d4f65d1bda5e-0', usage_metadata={'input_tokens': 36, 'output_tokens': 23, 'total_tokens': 59})"
      ]
     },
     "execution_count": 7,
     "metadata": {},
     "output_type": "execute_result"
    }
   ],
   "source": [
    "llm.invoke(\"Hi\")"
   ]
  },
  {
   "cell_type": "code",
   "execution_count": 8,
   "metadata": {},
   "outputs": [],
   "source": [
    "from langchain.prompts import PromptTemplate\n",
    "from langchain.chains import LLMChain\n",
    "from langchain.chains import SequentialChain\n",
    "from langchain.callbacks import get_openai_callback\n",
    "import PyPDF2"
   ]
  },
  {
   "cell_type": "code",
   "execution_count": 9,
   "metadata": {},
   "outputs": [],
   "source": [
    "RESPONSE_JSON = {\n",
    "    \"1\": {\n",
    "        \"mcq\": \"multiple choice question\",\n",
    "        \"options\": {\n",
    "            \"a\": \"choice here\",\n",
    "            \"b\": \"choice here\",\n",
    "            \"c\": \"choice here\",\n",
    "            \"d\": \"choice here\",\n",
    "        },\n",
    "        \"correct\": \"correct answer\",\n",
    "    },\n",
    "    \"2\": {\n",
    "        \"mcq\": \"multiple choice question\",\n",
    "        \"options\": {\n",
    "            \"a\": \"choice here\",\n",
    "            \"b\": \"choice here\",\n",
    "            \"c\": \"choice here\",\n",
    "            \"d\": \"choice here\",\n",
    "        },\n",
    "        \"correct\": \"correct answer\",\n",
    "    },\n",
    "    \"3\": {\n",
    "        \"mcq\": \"multiple choice question\",\n",
    "        \"options\": {\n",
    "            \"a\": \"choice here\",\n",
    "            \"b\": \"choice here\",\n",
    "            \"c\": \"choice here\",\n",
    "            \"d\": \"choice here\",\n",
    "        },\n",
    "        \"correct\": \"correct answer\",\n",
    "    },\n",
    "}"
   ]
  },
  {
   "cell_type": "code",
   "execution_count": 10,
   "metadata": {},
   "outputs": [],
   "source": [
    "TEMPLATE = \"\"\"\n",
    "Text:{text}\n",
    "You are an expert MCQ maker. Given the above text, it is your job to \\\n",
    "create a quiz  of {number} multiple choice questions for {subject} students in {tone} tone. \n",
    "Make sure the questions are not repeated and check all the questions to be conforming the text as well.\n",
    "Make sure to format your response like  RESPONSE_JSON below that can be convertable into python dictionary and use it as a guide. \\\n",
    "Ensure to make {number} MCQs\n",
    "### RESPONSE_JSON\n",
    "{response_json}\n",
    "\n",
    "\"\"\""
   ]
  },
  {
   "cell_type": "code",
   "execution_count": 11,
   "metadata": {},
   "outputs": [],
   "source": [
    "quiz_generation_prompt = PromptTemplate(\n",
    "    input_variables=[\"text\", \"number\", \"subject\", \"tone\", \"response_json\"],\n",
    "    template=TEMPLATE,\n",
    ")"
   ]
  },
  {
   "cell_type": "code",
   "execution_count": 12,
   "metadata": {},
   "outputs": [
    {
     "name": "stderr",
     "output_type": "stream",
     "text": [
      "C:\\Users\\ma240\\AppData\\Local\\Temp\\ipykernel_18596\\1105777205.py:1: LangChainDeprecationWarning: The class `LLMChain` was deprecated in LangChain 0.1.17 and will be removed in 1.0. Use :meth:`~RunnableSequence, e.g., `prompt | llm`` instead.\n",
      "  quiz_chain = LLMChain(\n"
     ]
    }
   ],
   "source": [
    "quiz_chain = LLMChain(\n",
    "    llm=llm, prompt=quiz_generation_prompt, output_key=\"quiz\", verbose=True\n",
    ")"
   ]
  },
  {
   "cell_type": "code",
   "execution_count": 13,
   "metadata": {},
   "outputs": [],
   "source": [
    "TEMPLATE2 = \"\"\"\n",
    "You are an expert english grammarian and writer. Given a Multiple Choice Quiz for {subject} students.\\\n",
    "You need to evaluate the complexity of the question and give a complete analysis of the quiz. Only use at max 50 words for complexity analysis. \n",
    "if the quiz is not at per with the cognitive and analytical abilities of the students,\\\n",
    "update the quiz questions which needs to be changed and change the tone such that it perfectly fits the student abilities\n",
    "Quiz_MCQs:\n",
    "{quiz}\n",
    "\n",
    "Check from an expert English Writer of the above quiz:\n",
    "\"\"\""
   ]
  },
  {
   "cell_type": "code",
   "execution_count": 14,
   "metadata": {},
   "outputs": [],
   "source": [
    "quiz_evaluation_prompt = PromptTemplate(\n",
    "    input_variables=[\"subject\", \"quiz\"], template=TEMPLATE\n",
    ")"
   ]
  },
  {
   "cell_type": "code",
   "execution_count": 15,
   "metadata": {},
   "outputs": [],
   "source": [
    "review_chain = LLMChain(\n",
    "    llm=llm, prompt=quiz_evaluation_prompt, output_key=\"review\", verbose=True\n",
    ")"
   ]
  },
  {
   "cell_type": "code",
   "execution_count": 16,
   "metadata": {},
   "outputs": [],
   "source": [
    "generate_evaluate_chain = SequentialChain(\n",
    "    chains=[quiz_chain, review_chain],\n",
    "    input_variables=[\"text\", \"number\", \"subject\", \"tone\", \"response_json\"],\n",
    "    output_variables=[\"quiz\", \"review\"],\n",
    "    verbose=True,\n",
    ")"
   ]
  },
  {
   "cell_type": "code",
   "execution_count": 17,
   "metadata": {},
   "outputs": [],
   "source": [
    "file_path = r\"D:\\AppliedGenAI\\Python\\mcqgen\\data.txt\""
   ]
  },
  {
   "cell_type": "code",
   "execution_count": 20,
   "metadata": {},
   "outputs": [
    {
     "data": {
      "text/plain": [
       "'D:\\\\AppliedGenAI\\\\Python\\\\mcqgen\\\\data.txt'"
      ]
     },
     "execution_count": 20,
     "metadata": {},
     "output_type": "execute_result"
    }
   ],
   "source": [
    "file_path"
   ]
  },
  {
   "cell_type": "code",
   "execution_count": 18,
   "metadata": {},
   "outputs": [],
   "source": [
    "with open(file_path, \"r\") as file:\n",
    "    TEXT = file.read()"
   ]
  },
  {
   "cell_type": "code",
   "execution_count": 18,
   "metadata": {},
   "outputs": [
    {
     "name": "stdout",
     "output_type": "stream",
     "text": [
      "Early usage\n",
      "In 1962, John Tukey described a field he called \"data analysis\", which resembles modern data science.[20] In 1985, in a lecture given to the Chinese Academy of Sciences in Beijing, C. F. Jeff Wu used the term \"data science\" for the first time as an alternative name for statistics.[21] Later, attendees at a 1992 statistics symposium at the University of Montpellier  II acknowledged the emergence of a new discipline focused on data of various origins and forms, combining established concepts and principles of statistics and data analysis with computing.[22][23]\n",
      "\n",
      "The term \"data science\" has been traced back to 1974, when Peter Naur proposed it as an alternative name to computer science.[6] In 1996, the International Federation of Classification Societies became the first conference to specifically feature data science as a topic.[6] However, the definition was still in flux. After the 1985 lecture at the Chinese Academy of Sciences in Beijing, in 1997 C. F. Jeff Wu again suggested that statistics should be renamed data science. He reasoned that a new name would help statistics shed inaccurate stereotypes, such as being synonymous with accounting or limited to describing data.[24] In 1998, Hayashi Chikio argued for data science as a new, interdisciplinary concept, with three aspects: data design, collection, and analysis.[23]\n",
      "\n",
      "During the 1990s, popular terms for the process of finding patterns in datasets (which were increasingly large) included \"knowledge discovery\" and \"data mining\".[6][25]\n",
      "\n",
      "Modern usage\n",
      "In 2012, technologists Thomas H. Davenport and DJ Patil declared \"Data Scientist: The Sexiest Job of the 21st Century\",[26] a catchphrase that was picked up even by major-city newspapers like the New York Times[27] and the Boston Globe.[28] A decade later, they reaffirmed it, stating that \"the job is more in demand than ever with employers\".[29]\n",
      "\n",
      "The modern conception of data science as an independent discipline is sometimes attributed to William S. Cleveland.[30] In a 2001 paper, he advocated an expansion of statistics beyond theory into technical areas; because this would significantly change the field, it warranted a new name.[25] \"Data science\" became more widely used in the next few years: in 2002, the Committee on Data for Science and Technology launched the Data Science Journal. In 2003, Columbia University launched The Journal of Data Science.[25] In 2014, the American Statistical Association's Section on Statistical Learning and Data Mining changed its name to the Section on Statistical Learning and Data Science, reflecting the ascendant popularity of data science.[31]\n",
      "\n",
      "The professional title of \"data scientist\" has been attributed to DJ Patil and Jeff Hammerbacher in 2008.[32] Though it was used by the National Science Board in their 2005 report \"Long-Lived Digital Data Collections: Enabling Research and Education in the 21st Century\", it referred broadly to any key role in managing a digital data collection.[33]\n",
      "\n",
      "There is still no consensus on the definition of data science, and it is considered by some to be a buzzword.[34] Big data is a related marketing term.[35] Data scientists are responsible for breaking down big data into usable information and creating software and algorithms that help companies and organizations determine optimal operations.[36]\n"
     ]
    }
   ],
   "source": [
    "print(TEXT\n",
    "      )"
   ]
  },
  {
   "cell_type": "code",
   "execution_count": 19,
   "metadata": {},
   "outputs": [
    {
     "data": {
      "text/plain": [
       "'{\"1\": {\"mcq\": \"multiple choice question\", \"options\": {\"a\": \"choice here\", \"b\": \"choice here\", \"c\": \"choice here\", \"d\": \"choice here\"}, \"correct\": \"correct answer\"}, \"2\": {\"mcq\": \"multiple choice question\", \"options\": {\"a\": \"choice here\", \"b\": \"choice here\", \"c\": \"choice here\", \"d\": \"choice here\"}, \"correct\": \"correct answer\"}, \"3\": {\"mcq\": \"multiple choice question\", \"options\": {\"a\": \"choice here\", \"b\": \"choice here\", \"c\": \"choice here\", \"d\": \"choice here\"}, \"correct\": \"correct answer\"}}'"
      ]
     },
     "execution_count": 19,
     "metadata": {},
     "output_type": "execute_result"
    }
   ],
   "source": [
    "json.dumps(RESPONSE_JSON)"
   ]
  },
  {
   "cell_type": "code",
   "execution_count": 20,
   "metadata": {},
   "outputs": [],
   "source": [
    "NUMBER = 10\n",
    "SUBJECT = \"Data Science\"\n",
    "TONE = \"medium\""
   ]
  },
  {
   "cell_type": "code",
   "execution_count": 21,
   "metadata": {},
   "outputs": [
    {
     "name": "stderr",
     "output_type": "stream",
     "text": [
      "C:\\Users\\ma240\\AppData\\Local\\Temp\\ipykernel_18596\\3884664581.py:5: LangChainDeprecationWarning: The method `Chain.__call__` was deprecated in langchain 0.1.0 and will be removed in 1.0. Use :meth:`~invoke` instead.\n",
      "  response = generate_evaluate_chain(\n"
     ]
    },
    {
     "name": "stdout",
     "output_type": "stream",
     "text": [
      "\n",
      "\n",
      "\u001b[1m> Entering new SequentialChain chain...\u001b[0m\n",
      "\n",
      "\n",
      "\u001b[1m> Entering new LLMChain chain...\u001b[0m\n",
      "Prompt after formatting:\n",
      "\u001b[32;1m\u001b[1;3m\n",
      "Text:Early usage\n",
      "In 1962, John Tukey described a field he called \"data analysis\", which resembles modern data science.[20] In 1985, in a lecture given to the Chinese Academy of Sciences in Beijing, C. F. Jeff Wu used the term \"data science\" for the first time as an alternative name for statistics.[21] Later, attendees at a 1992 statistics symposium at the University of Montpellier  II acknowledged the emergence of a new discipline focused on data of various origins and forms, combining established concepts and principles of statistics and data analysis with computing.[22][23]\n",
      "\n",
      "The term \"data science\" has been traced back to 1974, when Peter Naur proposed it as an alternative name to computer science.[6] In 1996, the International Federation of Classification Societies became the first conference to specifically feature data science as a topic.[6] However, the definition was still in flux. After the 1985 lecture at the Chinese Academy of Sciences in Beijing, in 1997 C. F. Jeff Wu again suggested that statistics should be renamed data science. He reasoned that a new name would help statistics shed inaccurate stereotypes, such as being synonymous with accounting or limited to describing data.[24] In 1998, Hayashi Chikio argued for data science as a new, interdisciplinary concept, with three aspects: data design, collection, and analysis.[23]\n",
      "\n",
      "During the 1990s, popular terms for the process of finding patterns in datasets (which were increasingly large) included \"knowledge discovery\" and \"data mining\".[6][25]\n",
      "\n",
      "Modern usage\n",
      "In 2012, technologists Thomas H. Davenport and DJ Patil declared \"Data Scientist: The Sexiest Job of the 21st Century\",[26] a catchphrase that was picked up even by major-city newspapers like the New York Times[27] and the Boston Globe.[28] A decade later, they reaffirmed it, stating that \"the job is more in demand than ever with employers\".[29]\n",
      "\n",
      "The modern conception of data science as an independent discipline is sometimes attributed to William S. Cleveland.[30] In a 2001 paper, he advocated an expansion of statistics beyond theory into technical areas; because this would significantly change the field, it warranted a new name.[25] \"Data science\" became more widely used in the next few years: in 2002, the Committee on Data for Science and Technology launched the Data Science Journal. In 2003, Columbia University launched The Journal of Data Science.[25] In 2014, the American Statistical Association's Section on Statistical Learning and Data Mining changed its name to the Section on Statistical Learning and Data Science, reflecting the ascendant popularity of data science.[31]\n",
      "\n",
      "The professional title of \"data scientist\" has been attributed to DJ Patil and Jeff Hammerbacher in 2008.[32] Though it was used by the National Science Board in their 2005 report \"Long-Lived Digital Data Collections: Enabling Research and Education in the 21st Century\", it referred broadly to any key role in managing a digital data collection.[33]\n",
      "\n",
      "There is still no consensus on the definition of data science, and it is considered by some to be a buzzword.[34] Big data is a related marketing term.[35] Data scientists are responsible for breaking down big data into usable information and creating software and algorithms that help companies and organizations determine optimal operations.[36]\n",
      "You are an expert MCQ maker. Given the above text, it is your job to create a quiz  of 10 multiple choice questions for Data Science students in medium tone. \n",
      "Make sure the questions are not repeated and check all the questions to be conforming the text as well.\n",
      "Make sure to format your response like  RESPONSE_JSON below that can be convertable into python dictionary and use it as a guide. Ensure to make 10 MCQs\n",
      "### RESPONSE_JSON\n",
      "{\"1\": {\"mcq\": \"multiple choice question\", \"options\": {\"a\": \"choice here\", \"b\": \"choice here\", \"c\": \"choice here\", \"d\": \"choice here\"}, \"correct\": \"correct answer\"}, \"2\": {\"mcq\": \"multiple choice question\", \"options\": {\"a\": \"choice here\", \"b\": \"choice here\", \"c\": \"choice here\", \"d\": \"choice here\"}, \"correct\": \"correct answer\"}, \"3\": {\"mcq\": \"multiple choice question\", \"options\": {\"a\": \"choice here\", \"b\": \"choice here\", \"c\": \"choice here\", \"d\": \"choice here\"}, \"correct\": \"correct answer\"}}\n",
      "\n",
      "\u001b[0m\n",
      "\n",
      "\u001b[1m> Finished chain.\u001b[0m\n",
      "\n",
      "\n",
      "\u001b[1m> Entering new LLMChain chain...\u001b[0m\n",
      "Prompt after formatting:\n",
      "\u001b[32;1m\u001b[1;3m\n",
      "Text:Early usage\n",
      "In 1962, John Tukey described a field he called \"data analysis\", which resembles modern data science.[20] In 1985, in a lecture given to the Chinese Academy of Sciences in Beijing, C. F. Jeff Wu used the term \"data science\" for the first time as an alternative name for statistics.[21] Later, attendees at a 1992 statistics symposium at the University of Montpellier  II acknowledged the emergence of a new discipline focused on data of various origins and forms, combining established concepts and principles of statistics and data analysis with computing.[22][23]\n",
      "\n",
      "The term \"data science\" has been traced back to 1974, when Peter Naur proposed it as an alternative name to computer science.[6] In 1996, the International Federation of Classification Societies became the first conference to specifically feature data science as a topic.[6] However, the definition was still in flux. After the 1985 lecture at the Chinese Academy of Sciences in Beijing, in 1997 C. F. Jeff Wu again suggested that statistics should be renamed data science. He reasoned that a new name would help statistics shed inaccurate stereotypes, such as being synonymous with accounting or limited to describing data.[24] In 1998, Hayashi Chikio argued for data science as a new, interdisciplinary concept, with three aspects: data design, collection, and analysis.[23]\n",
      "\n",
      "During the 1990s, popular terms for the process of finding patterns in datasets (which were increasingly large) included \"knowledge discovery\" and \"data mining\".[6][25]\n",
      "\n",
      "Modern usage\n",
      "In 2012, technologists Thomas H. Davenport and DJ Patil declared \"Data Scientist: The Sexiest Job of the 21st Century\",[26] a catchphrase that was picked up even by major-city newspapers like the New York Times[27] and the Boston Globe.[28] A decade later, they reaffirmed it, stating that \"the job is more in demand than ever with employers\".[29]\n",
      "\n",
      "The modern conception of data science as an independent discipline is sometimes attributed to William S. Cleveland.[30] In a 2001 paper, he advocated an expansion of statistics beyond theory into technical areas; because this would significantly change the field, it warranted a new name.[25] \"Data science\" became more widely used in the next few years: in 2002, the Committee on Data for Science and Technology launched the Data Science Journal. In 2003, Columbia University launched The Journal of Data Science.[25] In 2014, the American Statistical Association's Section on Statistical Learning and Data Mining changed its name to the Section on Statistical Learning and Data Science, reflecting the ascendant popularity of data science.[31]\n",
      "\n",
      "The professional title of \"data scientist\" has been attributed to DJ Patil and Jeff Hammerbacher in 2008.[32] Though it was used by the National Science Board in their 2005 report \"Long-Lived Digital Data Collections: Enabling Research and Education in the 21st Century\", it referred broadly to any key role in managing a digital data collection.[33]\n",
      "\n",
      "There is still no consensus on the definition of data science, and it is considered by some to be a buzzword.[34] Big data is a related marketing term.[35] Data scientists are responsible for breaking down big data into usable information and creating software and algorithms that help companies and organizations determine optimal operations.[36]\n",
      "You are an expert MCQ maker. Given the above text, it is your job to create a quiz  of 10 multiple choice questions for Data Science students in medium tone. \n",
      "Make sure the questions are not repeated and check all the questions to be conforming the text as well.\n",
      "Make sure to format your response like  RESPONSE_JSON below that can be convertable into python dictionary and use it as a guide. Ensure to make 10 MCQs\n",
      "### RESPONSE_JSON\n",
      "{\"1\": {\"mcq\": \"multiple choice question\", \"options\": {\"a\": \"choice here\", \"b\": \"choice here\", \"c\": \"choice here\", \"d\": \"choice here\"}, \"correct\": \"correct answer\"}, \"2\": {\"mcq\": \"multiple choice question\", \"options\": {\"a\": \"choice here\", \"b\": \"choice here\", \"c\": \"choice here\", \"d\": \"choice here\"}, \"correct\": \"correct answer\"}, \"3\": {\"mcq\": \"multiple choice question\", \"options\": {\"a\": \"choice here\", \"b\": \"choice here\", \"c\": \"choice here\", \"d\": \"choice here\"}, \"correct\": \"correct answer\"}}\n",
      "\n",
      "\u001b[0m\n",
      "\n",
      "\u001b[1m> Finished chain.\u001b[0m\n",
      "\n",
      "\u001b[1m> Finished chain.\u001b[0m\n"
     ]
    }
   ],
   "source": [
    "# https://python.langchain.com/docs/modules/model_io/llms/token_usage_tracking\n",
    "\n",
    "# How to setup Token Usage Tracking in LangChain\n",
    "with get_openai_callback() as cb:\n",
    "    response = generate_evaluate_chain(\n",
    "        {\n",
    "            \"text\": TEXT,\n",
    "            \"number\": NUMBER,\n",
    "            \"subject\": SUBJECT,\n",
    "            \"tone\": TONE,\n",
    "            \"response_json\": json.dumps(RESPONSE_JSON),\n",
    "        }\n",
    "    )"
   ]
  },
  {
   "cell_type": "code",
   "execution_count": 22,
   "metadata": {},
   "outputs": [
    {
     "name": "stdout",
     "output_type": "stream",
     "text": [
      "Total Tokens:4065\n",
      "Prompt Tokens:2028\n",
      "Completion Tokens:2037\n",
      "Total Cost:0.0\n"
     ]
    }
   ],
   "source": [
    "print(f\"Total Tokens:{cb.total_tokens}\")\n",
    "print(f\"Prompt Tokens:{cb.prompt_tokens}\")\n",
    "print(f\"Completion Tokens:{cb.completion_tokens}\")\n",
    "print(f\"Total Cost:{cb.total_cost}\")"
   ]
  },
  {
   "cell_type": "code",
   "execution_count": 22,
   "metadata": {},
   "outputs": [
    {
     "data": {
      "text/plain": [
       "{'text': 'Early usage\\nIn 1962, John Tukey described a field he called \"data analysis\", which resembles modern data science.[20] In 1985, in a lecture given to the Chinese Academy of Sciences in Beijing, C. F. Jeff Wu used the term \"data science\" for the first time as an alternative name for statistics.[21] Later, attendees at a 1992 statistics symposium at the University of Montpellier  II acknowledged the emergence of a new discipline focused on data of various origins and forms, combining established concepts and principles of statistics and data analysis with computing.[22][23]\\n\\nThe term \"data science\" has been traced back to 1974, when Peter Naur proposed it as an alternative name to computer science.[6] In 1996, the International Federation of Classification Societies became the first conference to specifically feature data science as a topic.[6] However, the definition was still in flux. After the 1985 lecture at the Chinese Academy of Sciences in Beijing, in 1997 C. F. Jeff Wu again suggested that statistics should be renamed data science. He reasoned that a new name would help statistics shed inaccurate stereotypes, such as being synonymous with accounting or limited to describing data.[24] In 1998, Hayashi Chikio argued for data science as a new, interdisciplinary concept, with three aspects: data design, collection, and analysis.[23]\\n\\nDuring the 1990s, popular terms for the process of finding patterns in datasets (which were increasingly large) included \"knowledge discovery\" and \"data mining\".[6][25]\\n\\nModern usage\\nIn 2012, technologists Thomas H. Davenport and DJ Patil declared \"Data Scientist: The Sexiest Job of the 21st Century\",[26] a catchphrase that was picked up even by major-city newspapers like the New York Times[27] and the Boston Globe.[28] A decade later, they reaffirmed it, stating that \"the job is more in demand than ever with employers\".[29]\\n\\nThe modern conception of data science as an independent discipline is sometimes attributed to William S. Cleveland.[30] In a 2001 paper, he advocated an expansion of statistics beyond theory into technical areas; because this would significantly change the field, it warranted a new name.[25] \"Data science\" became more widely used in the next few years: in 2002, the Committee on Data for Science and Technology launched the Data Science Journal. In 2003, Columbia University launched The Journal of Data Science.[25] In 2014, the American Statistical Association\\'s Section on Statistical Learning and Data Mining changed its name to the Section on Statistical Learning and Data Science, reflecting the ascendant popularity of data science.[31]\\n\\nThe professional title of \"data scientist\" has been attributed to DJ Patil and Jeff Hammerbacher in 2008.[32] Though it was used by the National Science Board in their 2005 report \"Long-Lived Digital Data Collections: Enabling Research and Education in the 21st Century\", it referred broadly to any key role in managing a digital data collection.[33]\\n\\nThere is still no consensus on the definition of data science, and it is considered by some to be a buzzword.[34] Big data is a related marketing term.[35] Data scientists are responsible for breaking down big data into usable information and creating software and algorithms that help companies and organizations determine optimal operations.[36]',\n",
       " 'number': 10,\n",
       " 'subject': 'Data Science',\n",
       " 'tone': 'medium',\n",
       " 'response_json': '{\"1\": {\"mcq\": \"multiple choice question\", \"options\": {\"a\": \"choice here\", \"b\": \"choice here\", \"c\": \"choice here\", \"d\": \"choice here\"}, \"correct\": \"correct answer\"}, \"2\": {\"mcq\": \"multiple choice question\", \"options\": {\"a\": \"choice here\", \"b\": \"choice here\", \"c\": \"choice here\", \"d\": \"choice here\"}, \"correct\": \"correct answer\"}, \"3\": {\"mcq\": \"multiple choice question\", \"options\": {\"a\": \"choice here\", \"b\": \"choice here\", \"c\": \"choice here\", \"d\": \"choice here\"}, \"correct\": \"correct answer\"}}',\n",
       " 'quiz': '{\"1\": {\"mcq\": \"Who is credited with describing a field called \\'data analysis\\' in 1962, which resembles modern data science?\", \"options\": {\"a\": \"C. F. Jeff Wu\", \"b\": \"John Tukey\", \"c\": \"Peter Naur\", \"d\": \"William S. Cleveland\"}, \"correct\": \"b\"}, \\n\"2\": {\"mcq\": \"In what year did C. F. Jeff Wu use the term \\'data science\\' for the first time as an alternative name for statistics?\", \"options\": {\"a\": \"1974\", \"b\": \"1985\", \"c\": \"1992\", \"d\": \"1997\"}, \"correct\": \"b\"}, \\n\"3\": {\"mcq\": \"What was the name of the journal launched by the Committee on Data for Science and Technology in 2002?\", \"options\": {\"a\": \"The Journal of Data Science\", \"b\": \"Data Science Journal\", \"c\": \"Statistics Journal\", \"d\": \"Data Analysis Journal\"}, \"correct\": \"b\"}, \\n\"4\": {\"mcq\": \"Who is sometimes attributed with the modern conception of data science as an independent discipline?\", \"options\": {\"a\": \"DJ Patil\", \"b\": \"William S. Cleveland\", \"c\": \"John Tukey\", \"d\": \"C. F. Jeff Wu\"}, \"correct\": \"b\"}, \\n\"5\": {\"mcq\": \"What was the title of the paper written by Thomas H. Davenport and DJ Patil in 2012?\", \"options\": {\"a\": \"Data Science: The Future of Statistics\", \"b\": \"Data Scientist: The Sexiest Job of the 21st Century\", \"c\": \"The Emergence of Data Science\", \"d\": \"Data Analysis: A New Field\"}, \"correct\": \"b\"}, \\n\"6\": {\"mcq\": \"In what year did the American Statistical Association\\'s Section on Statistical Learning and Data Mining change its name to the Section on Statistical Learning and Data Science?\", \"options\": {\"a\": \"2005\", \"b\": \"2008\", \"c\": \"2010\", \"d\": \"2014\"}, \"correct\": \"d\"}, \\n\"7\": {\"mcq\": \"Who is credited with proposing the term \\'data science\\' as an alternative name to computer science in 1974?\", \"options\": {\"a\": \"Peter Naur\", \"b\": \"John Tukey\", \"c\": \"C. F. Jeff Wu\", \"d\": \"William S. Cleveland\"}, \"correct\": \"a\"}, \\n\"8\": {\"mcq\": \"What are the three aspects of data science according to Hayashi Chikio?\", \"options\": {\"a\": \"Data design, collection, and analysis\", \"b\": \"Data mining, knowledge discovery, and statistics\", \"c\": \"Data science, machine learning, and artificial intelligence\", \"d\": \"Data analysis, data visualization, and data mining\"}, \"correct\": \"a\"}, \\n\"9\": {\"mcq\": \"Who are credited with the professional title of \\'data scientist\\' in 2008?\", \"options\": {\"a\": \"DJ Patil and Jeff Hammerbacher\", \"b\": \"John Tukey and C. F. Jeff Wu\", \"c\": \"William S. Cleveland and Peter Naur\", \"d\": \"Thomas H. Davenport and DJ Patil\"}, \"correct\": \"a\"}, \\n\"10\": {\"mcq\": \"What is the role of data scientists according to the text?\", \"options\": {\"a\": \"To manage digital data collections\", \"b\": \"To break down big data into usable information and create software and algorithms\", \"c\": \"To perform statistical analysis only\", \"d\": \"To work on data mining and knowledge discovery only\"}, \"correct\": \"b\"}}',\n",
       " 'review': '{\"1\": {\"mcq\": \"Who is credited with describing a field called \\'data analysis\\' in 1962, which resembles modern data science?\", \"options\": {\"a\": \"C. F. Jeff Wu\", \"b\": \"John Tukey\", \"c\": \"Peter Naur\", \"d\": \"William S. Cleveland\"}, \"correct\": \"b\"}, \\n\"2\": {\"mcq\": \"In what year did C. F. Jeff Wu use the term \\'data science\\' for the first time as an alternative name for statistics?\", \"options\": {\"a\": \"1974\", \"b\": \"1985\", \"c\": \"1992\", \"d\": \"1997\"}, \"correct\": \"b\"}, \\n\"3\": {\"mcq\": \"What was the name of the journal launched by the Committee on Data for Science and Technology in 2002?\", \"options\": {\"a\": \"The Journal of Data Science\", \"b\": \"Data Science Journal\", \"c\": \"Statistics Journal\", \"d\": \"Data Analysis Journal\"}, \"correct\": \"b\"}, \\n\"4\": {\"mcq\": \"Who is sometimes attributed with the modern conception of data science as an independent discipline?\", \"options\": {\"a\": \"DJ Patil\", \"b\": \"William S. Cleveland\", \"c\": \"John Tukey\", \"d\": \"C. F. Jeff Wu\"}, \"correct\": \"b\"}, \\n\"5\": {\"mcq\": \"What was the title of the paper written by Thomas H. Davenport and DJ Patil in 2012?\", \"options\": {\"a\": \"Data Science: The Future of Statistics\", \"b\": \"Data Scientist: The Sexiest Job of the 21st Century\", \"c\": \"The Emergence of Data Science\", \"d\": \"Data Analysis: A New Field\"}, \"correct\": \"b\"}, \\n\"6\": {\"mcq\": \"In what year did the American Statistical Association\\'s Section on Statistical Learning and Data Mining change its name to the Section on Statistical Learning and Data Science?\", \"options\": {\"a\": \"2001\", \"b\": \"2005\", \"c\": \"2010\", \"d\": \"2014\"}, \"correct\": \"d\"}, \\n\"7\": {\"mcq\": \"Who is credited with proposing the term \\'data science\\' as an alternative name to computer science in 1974?\", \"options\": {\"a\": \"Peter Naur\", \"b\": \"C. F. Jeff Wu\", \"c\": \"John Tukey\", \"d\": \"William S. Cleveland\"}, \"correct\": \"a\"}, \\n\"8\": {\"mcq\": \"What is the name of the concept that includes three aspects: data design, collection, and analysis, as argued by Hayashi Chikio in 1998?\", \"options\": {\"a\": \"Data Mining\", \"b\": \"Knowledge Discovery\", \"c\": \"Data Science\", \"d\": \"Statistics\"}, \"correct\": \"c\"}, \\n\"9\": {\"mcq\": \"Who are credited with the professional title of \\'data scientist\\' in 2008?\", \"options\": {\"a\": \"DJ Patil and Jeff Hammerbacher\", \"b\": \"John Tukey and C. F. Jeff Wu\", \"c\": \"William S. Cleveland and Peter Naur\", \"d\": \"Thomas H. Davenport and DJ Patil\"}, \"correct\": \"a\"}, \\n\"10\": {\"mcq\": \"What is the primary responsibility of data scientists, according to the text?\", \"options\": {\"a\": \"To collect and analyze data\", \"b\": \"To break down big data into usable information and create software and algorithms\", \"c\": \"To manage digital data collections\", \"d\": \"To determine optimal operations\", \"correct\": \"b\"}}}'}"
      ]
     },
     "execution_count": 22,
     "metadata": {},
     "output_type": "execute_result"
    }
   ],
   "source": [
    "response"
   ]
  },
  {
   "cell_type": "code",
   "execution_count": 23,
   "metadata": {},
   "outputs": [],
   "source": [
    "quiz = response.get(\"quiz\")"
   ]
  },
  {
   "cell_type": "code",
   "execution_count": 47,
   "metadata": {},
   "outputs": [],
   "source": [
    "result =  llm.invoke(f\"\"\"1. remove backticks \n",
    "                     2. rewrite it in a pure json format {quiz}\"\"\")"
   ]
  },
  {
   "cell_type": "code",
   "execution_count": 45,
   "metadata": {},
   "outputs": [
    {
     "data": {
      "text/plain": [
       "'```json\\n{\\n  \"1\": {\\n    \"mcq\": \"Who first used the term \\\\\"data science\\\\\" as an alternative name for statistics?\",\\n    \"options\": {\\n      \"a\": \"John Tukey\",\\n      \"b\": \"Peter Naur\",\\n      \"c\": \"C. F. Jeff Wu\",\\n      \"d\": \"William S. Cleveland\"\\n    },\\n    \"correct\": \"c\"\\n  },\\n  \"2\": {\\n    \"mcq\": \"In what year did C. F. Jeff Wu first suggest that statistics be renamed data science?\",\\n    \"options\": {\\n      \"a\": \"1974\",\\n      \"b\": \"1985\",\\n      \"c\": \"1997\",\\n      \"d\": \"2001\"\\n    },\\n    \"correct\": \"c\"\\n  },\\n  \"3\": {\\n    \"mcq\": \"Which popular terms were used in the 1990s to describe the process of finding patterns in large datasets?\",\\n    \"options\": {\\n      \"a\": \"Data analysis and data mining\",\\n      \"b\": \"Knowledge discovery and data mining\",\\n      \"c\": \"Big data and data science\",\\n      \"d\": \"Statistical learning and data science\"\\n    },\\n    \"correct\": \"b\"\\n  },\\n  \"4\": {\\n    \"mcq\": \"Who declared \\\\\"Data Scientist: The Sexiest Job of the 21st Century\\\\\" in 2012?\",\\n    \"options\": {\\n      \"a\": \"Jeff Hammerbacher and William S. Cleveland\",\\n      \"b\": \"Thomas H. Davenport and DJ Patil\",\\n      \"c\": \"Peter Naur and Hayashi Chikio\",\\n      \"d\": \"John Tukey and C. F. Jeff Wu\"\\n    },\\n    \"correct\": \"b\"\\n  },\\n  \"5\": {\\n    \"mcq\": \"In what year did the American Statistical Association\\'s Section on Statistical Learning and Data Mining change its name to reflect the growing popularity of data science?\",\\n    \"options\": {\\n      \"a\": \"2001\",\\n      \"b\": \"2002\",\\n      \"c\": \"2003\",\\n      \"d\": \"2014\"\\n    },\\n    \"correct\": \"d\"\\n  },\\n  \"6\": {\\n    \"mcq\": \"To whom is the modern conception of data science as an independent discipline sometimes attributed?\",\\n    \"options\": {\\n      \"a\": \"DJ Patil\",\\n      \"b\": \"Jeff Hammerbacher\",\\n      \"c\": \"William S. Cleveland\",\\n      \"d\": \"Thomas H. Davenport\"\\n    },\\n    \"correct\": \"c\"\\n  },\\n  \"7\": {\\n    \"mcq\": \"In what year did Peter Naur propose \\\\\"data science\\\\\" as an alternative name to computer science?\",\\n    \"options\": {\\n      \"a\": \"1962\",\\n      \"b\": \"1974\",\\n      \"c\": \"1985\",\\n      \"d\": \"1996\"\\n    },\\n    \"correct\": \"b\"\\n  },\\n  \"8\": {\\n    \"mcq\": \"What year saw the International Federation of Classification Societies first feature data science as a specific topic?\",\\n    \"options\": {\\n      \"a\": \"1974\",\\n      \"b\": \"1985\",\\n      \"c\": \"1992\",\\n      \"d\": \"1996\"\\n    },\\n    \"correct\": \"d\"\\n  },\\n  \"9\": {\\n    \"mcq\": \"According to Hayashi Chikio\\'s 1998 argument, what are the three aspects of data science?\",\\n    \"options\": {\\n      \"a\": \"Data collection, analysis, and visualization\",\\n      \"b\": \"Data design, collection, and analysis\",\\n      \"c\": \"Data mining, knowledge discovery, and prediction\",\\n      \"d\": \"Data acquisition, processing, and interpretation\"\\n    },\\n    \"correct\": \"b\"\\n  },\\n  \"10\": {\\n    \"mcq\": \"What is considered by some to be a buzzword, and is related to the marketing term \\'Big Data\\'?\",\\n    \"options\": {\\n      \"a\": \"Data mining\",\\n      \"b\": \"Data science\",\\n      \"c\": \"Statistical learning\",\\n      \"d\": \"Knowledge discovery\"\\n    },\\n    \"correct\": \"b\"\\n  }\\n}\\n```\\n'"
      ]
     },
     "execution_count": 45,
     "metadata": {},
     "output_type": "execute_result"
    }
   ],
   "source": [
    "result.content"
   ]
  },
  {
   "cell_type": "code",
   "execution_count": 24,
   "metadata": {},
   "outputs": [],
   "source": [
    "quiz = json.loads(quiz)"
   ]
  },
  {
   "cell_type": "code",
   "execution_count": 25,
   "metadata": {},
   "outputs": [
    {
     "data": {
      "text/plain": [
       "{'1': {'mcq': \"Who is credited with describing a field called 'data analysis' in 1962, which resembles modern data science?\",\n",
       "  'options': {'a': 'C. F. Jeff Wu',\n",
       "   'b': 'John Tukey',\n",
       "   'c': 'Peter Naur',\n",
       "   'd': 'William S. Cleveland'},\n",
       "  'correct': 'b'},\n",
       " '2': {'mcq': \"In what year did C. F. Jeff Wu use the term 'data science' for the first time as an alternative name for statistics?\",\n",
       "  'options': {'a': '1974', 'b': '1985', 'c': '1992', 'd': '1997'},\n",
       "  'correct': 'b'},\n",
       " '3': {'mcq': 'What was the name of the journal launched by the Committee on Data for Science and Technology in 2002?',\n",
       "  'options': {'a': 'The Journal of Data Science',\n",
       "   'b': 'Data Science Journal',\n",
       "   'c': 'Statistics Journal',\n",
       "   'd': 'Data Analysis Journal'},\n",
       "  'correct': 'b'},\n",
       " '4': {'mcq': 'Who is sometimes attributed with the modern conception of data science as an independent discipline?',\n",
       "  'options': {'a': 'DJ Patil',\n",
       "   'b': 'William S. Cleveland',\n",
       "   'c': 'John Tukey',\n",
       "   'd': 'C. F. Jeff Wu'},\n",
       "  'correct': 'b'},\n",
       " '5': {'mcq': 'What was the title of the paper written by Thomas H. Davenport and DJ Patil in 2012?',\n",
       "  'options': {'a': 'Data Science: The Future of Statistics',\n",
       "   'b': 'Data Scientist: The Sexiest Job of the 21st Century',\n",
       "   'c': 'The Emergence of Data Science',\n",
       "   'd': 'Data Analysis: A New Field'},\n",
       "  'correct': 'b'},\n",
       " '6': {'mcq': \"In what year did the American Statistical Association's Section on Statistical Learning and Data Mining change its name to the Section on Statistical Learning and Data Science?\",\n",
       "  'options': {'a': '2005', 'b': '2008', 'c': '2010', 'd': '2014'},\n",
       "  'correct': 'd'},\n",
       " '7': {'mcq': \"Who is credited with proposing the term 'data science' as an alternative name to computer science in 1974?\",\n",
       "  'options': {'a': 'Peter Naur',\n",
       "   'b': 'John Tukey',\n",
       "   'c': 'C. F. Jeff Wu',\n",
       "   'd': 'William S. Cleveland'},\n",
       "  'correct': 'a'},\n",
       " '8': {'mcq': 'What are the three aspects of data science according to Hayashi Chikio?',\n",
       "  'options': {'a': 'Data design, collection, and analysis',\n",
       "   'b': 'Data mining, knowledge discovery, and statistics',\n",
       "   'c': 'Data science, machine learning, and artificial intelligence',\n",
       "   'd': 'Data analysis, data visualization, and data mining'},\n",
       "  'correct': 'a'},\n",
       " '9': {'mcq': \"Who are credited with the professional title of 'data scientist' in 2008?\",\n",
       "  'options': {'a': 'DJ Patil and Jeff Hammerbacher',\n",
       "   'b': 'John Tukey and C. F. Jeff Wu',\n",
       "   'c': 'William S. Cleveland and Peter Naur',\n",
       "   'd': 'Thomas H. Davenport and DJ Patil'},\n",
       "  'correct': 'a'},\n",
       " '10': {'mcq': 'What is the role of data scientists according to the text?',\n",
       "  'options': {'a': 'To manage digital data collections',\n",
       "   'b': 'To break down big data into usable information and create software and algorithms',\n",
       "   'c': 'To perform statistical analysis only',\n",
       "   'd': 'To work on data mining and knowledge discovery only'},\n",
       "  'correct': 'b'}}"
      ]
     },
     "execution_count": 25,
     "metadata": {},
     "output_type": "execute_result"
    }
   ],
   "source": [
    "quiz"
   ]
  },
  {
   "cell_type": "code",
   "execution_count": 26,
   "metadata": {},
   "outputs": [],
   "source": [
    "quiz_table_data = []\n",
    "for key, value in quiz.items():\n",
    "    mcq = value[\"mcq\"]\n",
    "    options = \" | \".join(\n",
    "        [\n",
    "            f\"{option}: {option_value}\"\n",
    "            for option, option_value in value[\"options\"].items()\n",
    "        ]\n",
    "    )\n",
    "    correct = value[\"correct\"]\n",
    "    quiz_table_data.append({\"MCQ\": mcq, \"Choices\": options, \"Correct\": correct})"
   ]
  },
  {
   "cell_type": "code",
   "execution_count": 27,
   "metadata": {},
   "outputs": [
    {
     "data": {
      "text/plain": [
       "[{'MCQ': \"Who is credited with describing a field called 'data analysis' in 1962, which resembles modern data science?\",\n",
       "  'Choices': 'a: C. F. Jeff Wu | b: John Tukey | c: Peter Naur | d: William S. Cleveland',\n",
       "  'Correct': 'b'},\n",
       " {'MCQ': \"In what year did C. F. Jeff Wu use the term 'data science' for the first time as an alternative name for statistics?\",\n",
       "  'Choices': 'a: 1974 | b: 1985 | c: 1992 | d: 1997',\n",
       "  'Correct': 'b'},\n",
       " {'MCQ': 'What was the name of the journal launched by the Committee on Data for Science and Technology in 2002?',\n",
       "  'Choices': 'a: The Journal of Data Science | b: Data Science Journal | c: Statistics Journal | d: Data Analysis Journal',\n",
       "  'Correct': 'b'},\n",
       " {'MCQ': 'Who is sometimes attributed with the modern conception of data science as an independent discipline?',\n",
       "  'Choices': 'a: DJ Patil | b: William S. Cleveland | c: John Tukey | d: C. F. Jeff Wu',\n",
       "  'Correct': 'b'},\n",
       " {'MCQ': 'What was the title of the paper written by Thomas H. Davenport and DJ Patil in 2012?',\n",
       "  'Choices': 'a: Data Science: The Future of Statistics | b: Data Scientist: The Sexiest Job of the 21st Century | c: The Emergence of Data Science | d: Data Analysis: A New Field',\n",
       "  'Correct': 'b'},\n",
       " {'MCQ': \"In what year did the American Statistical Association's Section on Statistical Learning and Data Mining change its name to the Section on Statistical Learning and Data Science?\",\n",
       "  'Choices': 'a: 2005 | b: 2008 | c: 2010 | d: 2014',\n",
       "  'Correct': 'd'},\n",
       " {'MCQ': \"Who is credited with proposing the term 'data science' as an alternative name to computer science in 1974?\",\n",
       "  'Choices': 'a: Peter Naur | b: John Tukey | c: C. F. Jeff Wu | d: William S. Cleveland',\n",
       "  'Correct': 'a'},\n",
       " {'MCQ': 'What are the three aspects of data science according to Hayashi Chikio?',\n",
       "  'Choices': 'a: Data design, collection, and analysis | b: Data mining, knowledge discovery, and statistics | c: Data science, machine learning, and artificial intelligence | d: Data analysis, data visualization, and data mining',\n",
       "  'Correct': 'a'},\n",
       " {'MCQ': \"Who are credited with the professional title of 'data scientist' in 2008?\",\n",
       "  'Choices': 'a: DJ Patil and Jeff Hammerbacher | b: John Tukey and C. F. Jeff Wu | c: William S. Cleveland and Peter Naur | d: Thomas H. Davenport and DJ Patil',\n",
       "  'Correct': 'a'},\n",
       " {'MCQ': 'What is the role of data scientists according to the text?',\n",
       "  'Choices': 'a: To manage digital data collections | b: To break down big data into usable information and create software and algorithms | c: To perform statistical analysis only | d: To work on data mining and knowledge discovery only',\n",
       "  'Correct': 'b'}]"
      ]
     },
     "execution_count": 27,
     "metadata": {},
     "output_type": "execute_result"
    }
   ],
   "source": [
    "quiz_table_data"
   ]
  },
  {
   "cell_type": "code",
   "execution_count": 28,
   "metadata": {},
   "outputs": [],
   "source": [
    "quiz = pd.DataFrame(quiz_table_data)"
   ]
  },
  {
   "cell_type": "code",
   "execution_count": 29,
   "metadata": {},
   "outputs": [
    {
     "data": {
      "text/html": [
       "<div>\n",
       "<style scoped>\n",
       "    .dataframe tbody tr th:only-of-type {\n",
       "        vertical-align: middle;\n",
       "    }\n",
       "\n",
       "    .dataframe tbody tr th {\n",
       "        vertical-align: top;\n",
       "    }\n",
       "\n",
       "    .dataframe thead th {\n",
       "        text-align: right;\n",
       "    }\n",
       "</style>\n",
       "<table border=\"1\" class=\"dataframe\">\n",
       "  <thead>\n",
       "    <tr style=\"text-align: right;\">\n",
       "      <th></th>\n",
       "      <th>MCQ</th>\n",
       "      <th>Choices</th>\n",
       "      <th>Correct</th>\n",
       "    </tr>\n",
       "  </thead>\n",
       "  <tbody>\n",
       "    <tr>\n",
       "      <th>0</th>\n",
       "      <td>Who is credited with describing a field called...</td>\n",
       "      <td>a: C. F. Jeff Wu | b: John Tukey | c: Peter Na...</td>\n",
       "      <td>b</td>\n",
       "    </tr>\n",
       "    <tr>\n",
       "      <th>1</th>\n",
       "      <td>In what year did C. F. Jeff Wu use the term 'd...</td>\n",
       "      <td>a: 1974 | b: 1985 | c: 1992 | d: 1997</td>\n",
       "      <td>b</td>\n",
       "    </tr>\n",
       "    <tr>\n",
       "      <th>2</th>\n",
       "      <td>What was the name of the journal launched by t...</td>\n",
       "      <td>a: The Journal of Data Science | b: Data Scien...</td>\n",
       "      <td>b</td>\n",
       "    </tr>\n",
       "    <tr>\n",
       "      <th>3</th>\n",
       "      <td>Who is sometimes attributed with the modern co...</td>\n",
       "      <td>a: DJ Patil | b: William S. Cleveland | c: Joh...</td>\n",
       "      <td>b</td>\n",
       "    </tr>\n",
       "    <tr>\n",
       "      <th>4</th>\n",
       "      <td>What was the title of the paper written by Tho...</td>\n",
       "      <td>a: Data Science: The Future of Statistics | b:...</td>\n",
       "      <td>b</td>\n",
       "    </tr>\n",
       "    <tr>\n",
       "      <th>5</th>\n",
       "      <td>In what year did the American Statistical Asso...</td>\n",
       "      <td>a: 2005 | b: 2008 | c: 2010 | d: 2014</td>\n",
       "      <td>d</td>\n",
       "    </tr>\n",
       "    <tr>\n",
       "      <th>6</th>\n",
       "      <td>Who is credited with proposing the term 'data ...</td>\n",
       "      <td>a: Peter Naur | b: John Tukey | c: C. F. Jeff ...</td>\n",
       "      <td>a</td>\n",
       "    </tr>\n",
       "    <tr>\n",
       "      <th>7</th>\n",
       "      <td>What are the three aspects of data science acc...</td>\n",
       "      <td>a: Data design, collection, and analysis | b: ...</td>\n",
       "      <td>a</td>\n",
       "    </tr>\n",
       "    <tr>\n",
       "      <th>8</th>\n",
       "      <td>Who are credited with the professional title o...</td>\n",
       "      <td>a: DJ Patil and Jeff Hammerbacher | b: John Tu...</td>\n",
       "      <td>a</td>\n",
       "    </tr>\n",
       "    <tr>\n",
       "      <th>9</th>\n",
       "      <td>What is the role of data scientists according ...</td>\n",
       "      <td>a: To manage digital data collections | b: To ...</td>\n",
       "      <td>b</td>\n",
       "    </tr>\n",
       "  </tbody>\n",
       "</table>\n",
       "</div>"
      ],
      "text/plain": [
       "                                                 MCQ  \\\n",
       "0  Who is credited with describing a field called...   \n",
       "1  In what year did C. F. Jeff Wu use the term 'd...   \n",
       "2  What was the name of the journal launched by t...   \n",
       "3  Who is sometimes attributed with the modern co...   \n",
       "4  What was the title of the paper written by Tho...   \n",
       "5  In what year did the American Statistical Asso...   \n",
       "6  Who is credited with proposing the term 'data ...   \n",
       "7  What are the three aspects of data science acc...   \n",
       "8  Who are credited with the professional title o...   \n",
       "9  What is the role of data scientists according ...   \n",
       "\n",
       "                                             Choices Correct  \n",
       "0  a: C. F. Jeff Wu | b: John Tukey | c: Peter Na...       b  \n",
       "1              a: 1974 | b: 1985 | c: 1992 | d: 1997       b  \n",
       "2  a: The Journal of Data Science | b: Data Scien...       b  \n",
       "3  a: DJ Patil | b: William S. Cleveland | c: Joh...       b  \n",
       "4  a: Data Science: The Future of Statistics | b:...       b  \n",
       "5              a: 2005 | b: 2008 | c: 2010 | d: 2014       d  \n",
       "6  a: Peter Naur | b: John Tukey | c: C. F. Jeff ...       a  \n",
       "7  a: Data design, collection, and analysis | b: ...       a  \n",
       "8  a: DJ Patil and Jeff Hammerbacher | b: John Tu...       a  \n",
       "9  a: To manage digital data collections | b: To ...       b  "
      ]
     },
     "execution_count": 29,
     "metadata": {},
     "output_type": "execute_result"
    }
   ],
   "source": [
    "quiz"
   ]
  },
  {
   "cell_type": "code",
   "execution_count": 30,
   "metadata": {},
   "outputs": [],
   "source": [
    "quiz.to_csv(\"Data Science.csv\", index=False)"
   ]
  },
  {
   "cell_type": "code",
   "execution_count": null,
   "metadata": {},
   "outputs": [],
   "source": []
  }
 ],
 "metadata": {
  "kernelspec": {
   "display_name": "env",
   "language": "python",
   "name": "python3"
  },
  "language_info": {
   "codemirror_mode": {
    "name": "ipython",
    "version": 3
   },
   "file_extension": ".py",
   "mimetype": "text/x-python",
   "name": "python",
   "nbconvert_exporter": "python",
   "pygments_lexer": "ipython3",
   "version": "3.12.8"
  }
 },
 "nbformat": 4,
 "nbformat_minor": 2
}
