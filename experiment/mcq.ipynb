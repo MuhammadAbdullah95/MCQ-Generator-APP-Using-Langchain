{
 "cells": [
  {
   "cell_type": "code",
   "execution_count": 2,
   "metadata": {},
   "outputs": [],
   "source": [
    "import os\n",
    "import json\n",
    "import pandas as pd\n",
    "import traceback"
   ]
  },
  {
   "cell_type": "code",
   "execution_count": 3,
   "metadata": {},
   "outputs": [
    {
     "data": {
      "text/plain": [
       "True"
      ]
     },
     "execution_count": 3,
     "metadata": {},
     "output_type": "execute_result"
    }
   ],
   "source": [
    "from dotenv import load_dotenv\n",
    "load_dotenv()"
   ]
  },
  {
   "cell_type": "code",
   "execution_count": 4,
   "metadata": {},
   "outputs": [
    {
     "name": "stderr",
     "output_type": "stream",
     "text": [
      "d:\\AppliedGenAI\\Python\\mcqgen\\env\\Lib\\site-packages\\tqdm\\auto.py:21: TqdmWarning: IProgress not found. Please update jupyter and ipywidgets. See https://ipywidgets.readthedocs.io/en/stable/user_install.html\n",
      "  from .autonotebook import tqdm as notebook_tqdm\n"
     ]
    }
   ],
   "source": [
    "from langchain_google_genai import ChatGoogleGenerativeAI"
   ]
  },
  {
   "cell_type": "code",
   "execution_count": 6,
   "metadata": {},
   "outputs": [],
   "source": [
    "google_api_key = os.getenv('GOOGLE_API_KEY')"
   ]
  },
  {
   "cell_type": "code",
   "execution_count": 7,
   "metadata": {},
   "outputs": [],
   "source": [
    "llm = ChatGoogleGenerativeAI(\n",
    "    model=\"gemini-1.5-flash\",  # Specify the model to use\n",
    "    api_key=google_api_key,  # Provide the Google API key for authentication\n",
    "    temperature=0.2,  # Set the randomness of the model's responses (0 = deterministic, 1 = very random)\n",
    ")"
   ]
  },
  {
   "cell_type": "code",
   "execution_count": 8,
   "metadata": {},
   "outputs": [
    {
     "data": {
      "text/plain": [
       "AIMessage(content='Hi there! How can I help you today?\\n', additional_kwargs={}, response_metadata={'prompt_feedback': {'block_reason': 0, 'safety_ratings': []}, 'finish_reason': 'STOP', 'safety_ratings': []}, id='run-2fb85ca9-2533-4dc8-8135-1c1dfde46a07-0', usage_metadata={'input_tokens': 2, 'output_tokens': 11, 'total_tokens': 13, 'input_token_details': {'cache_read': 0}})"
      ]
     },
     "execution_count": 8,
     "metadata": {},
     "output_type": "execute_result"
    }
   ],
   "source": [
    "llm.invoke(\"Hi\")"
   ]
  },
  {
   "cell_type": "code",
   "execution_count": 9,
   "metadata": {},
   "outputs": [],
   "source": [
    "from langchain.prompts import PromptTemplate\n",
    "from langchain.chains import LLMChain\n",
    "from langchain.chains import SequentialChain\n",
    "from langchain.callbacks import get_openai_callback\n",
    "import PyPDF2"
   ]
  },
  {
   "cell_type": "code",
   "execution_count": 10,
   "metadata": {},
   "outputs": [],
   "source": [
    "RESPONSE_JSON = {\n",
    "    \"1\": {\n",
    "        \"mcq\": \"multiple choice question\",\n",
    "        \"options\": {\n",
    "            \"a\": \"choice here\",\n",
    "            \"b\": \"choice here\",\n",
    "            \"c\": \"choice here\",\n",
    "            \"d\": \"choice here\",\n",
    "        },\n",
    "        \"correct\": \"correct answer\",\n",
    "    },\n",
    "    \"2\": {\n",
    "        \"mcq\": \"multiple choice question\",\n",
    "        \"options\": {\n",
    "            \"a\": \"choice here\",\n",
    "            \"b\": \"choice here\",\n",
    "            \"c\": \"choice here\",\n",
    "            \"d\": \"choice here\",\n",
    "        },\n",
    "        \"correct\": \"correct answer\",\n",
    "    },\n",
    "    \"3\": {\n",
    "        \"mcq\": \"multiple choice question\",\n",
    "        \"options\": {\n",
    "            \"a\": \"choice here\",\n",
    "            \"b\": \"choice here\",\n",
    "            \"c\": \"choice here\",\n",
    "            \"d\": \"choice here\",\n",
    "        },\n",
    "        \"correct\": \"correct answer\",\n",
    "    },\n",
    "}"
   ]
  },
  {
   "cell_type": "code",
   "execution_count": 11,
   "metadata": {},
   "outputs": [],
   "source": [
    "TEMPLATE = \"\"\"\n",
    "Text:{text}\n",
    "You are an expert MCQ maker. Given the above text, it is your job to \\\n",
    "create a quiz  of {number} multiple choice questions for {subject} students in {tone} tone. \n",
    "Make sure the questions are not repeated and check all the questions to be conforming the text as well.\n",
    "Make sure to format your response like  RESPONSE_JSON below that can be convertable into python dictionary and use it as a guide. \\\n",
    "Ensure to make {number} MCQs\n",
    "### RESPONSE_JSON\n",
    "{response_json}\n",
    "\n",
    "\"\"\""
   ]
  },
  {
   "cell_type": "code",
   "execution_count": 12,
   "metadata": {},
   "outputs": [],
   "source": [
    "quiz_generation_prompt = PromptTemplate(\n",
    "    input_variables=[\"text\", \"number\", \"subject\", \"tone\", \"response_json\"],\n",
    "    template=TEMPLATE,\n",
    ")"
   ]
  },
  {
   "cell_type": "code",
   "execution_count": 13,
   "metadata": {},
   "outputs": [
    {
     "name": "stderr",
     "output_type": "stream",
     "text": [
      "C:\\Users\\ma240\\AppData\\Local\\Temp\\ipykernel_3452\\53329417.py:1: LangChainDeprecationWarning: The class `LLMChain` was deprecated in LangChain 0.1.17 and will be removed in 1.0. Use :meth:`~RunnableSequence, e.g., `prompt | llm`` instead.\n",
      "  quiz_chain = LLMChain(\n"
     ]
    }
   ],
   "source": [
    "quiz_chain = LLMChain(\n",
    "    llm=llm, prompt=quiz_generation_prompt, output_key=\"quiz\", verbose=False\n",
    ")"
   ]
  },
  {
   "cell_type": "code",
   "execution_count": 14,
   "metadata": {},
   "outputs": [],
   "source": [
    "TEMPLATE2 = \"\"\"\n",
    "You are an expert english grammarian and writer. Given a Multiple Choice Quiz for {subject} students.\\\n",
    "You need to evaluate the complexity of the question and give a complete analysis of the quiz. Only use at max 50 words for complexity analysis. \n",
    "if the quiz is not at per with the cognitive and analytical abilities of the students,\\\n",
    "update the quiz questions which needs to be changed and change the tone such that it perfectly fits the student abilities\n",
    "Quiz_MCQs:\n",
    "{quiz}\n",
    "\n",
    "Check from an expert English Writer of the above quiz:\n",
    "\"\"\""
   ]
  },
  {
   "cell_type": "code",
   "execution_count": 15,
   "metadata": {},
   "outputs": [],
   "source": [
    "quiz_evaluation_prompt = PromptTemplate(\n",
    "    input_variables=[\"subject\", \"quiz\"], template=TEMPLATE\n",
    ")"
   ]
  },
  {
   "cell_type": "code",
   "execution_count": 17,
   "metadata": {},
   "outputs": [],
   "source": [
    "review_chain = LLMChain(\n",
    "    llm=llm, prompt=quiz_evaluation_prompt, output_key=\"review\", verbose=True\n",
    ")"
   ]
  },
  {
   "cell_type": "code",
   "execution_count": 18,
   "metadata": {},
   "outputs": [],
   "source": [
    "generate_evaluate_chain = SequentialChain(\n",
    "    chains=[quiz_chain, review_chain],\n",
    "    input_variables=[\"text\", \"number\", \"subject\", \"tone\", \"response_json\"],\n",
    "    output_variables=[\"quiz\", \"review\"],\n",
    "    verbose=True,\n",
    ")"
   ]
  },
  {
   "cell_type": "code",
   "execution_count": 73,
   "metadata": {},
   "outputs": [],
   "source": [
    "file_path = r\"D:\\AppliedGenAI\\Python\\mcqgen\\data.txt\""
   ]
  },
  {
   "cell_type": "code",
   "execution_count": 20,
   "metadata": {},
   "outputs": [
    {
     "data": {
      "text/plain": [
       "'D:\\\\AppliedGenAI\\\\Python\\\\mcqgen\\\\data.txt'"
      ]
     },
     "execution_count": 20,
     "metadata": {},
     "output_type": "execute_result"
    }
   ],
   "source": [
    "file_path"
   ]
  },
  {
   "cell_type": "code",
   "execution_count": 74,
   "metadata": {},
   "outputs": [],
   "source": [
    "with open(file_path, \"r\") as file:\n",
    "    TEXT = file.read()"
   ]
  },
  {
   "cell_type": "code",
   "execution_count": 75,
   "metadata": {},
   "outputs": [
    {
     "name": "stdout",
     "output_type": "stream",
     "text": [
      "Early usage\n",
      "In 1962, John Tukey described a field he called \"data analysis\", which resembles modern data science.[20] In 1985, in a lecture given to the Chinese Academy of Sciences in Beijing, C. F. Jeff Wu used the term \"data science\" for the first time as an alternative name for statistics.[21] Later, attendees at a 1992 statistics symposium at the University of Montpellier  II acknowledged the emergence of a new discipline focused on data of various origins and forms, combining established concepts and principles of statistics and data analysis with computing.[22][23]\n",
      "\n",
      "The term \"data science\" has been traced back to 1974, when Peter Naur proposed it as an alternative name to computer science.[6] In 1996, the International Federation of Classification Societies became the first conference to specifically feature data science as a topic.[6] However, the definition was still in flux. After the 1985 lecture at the Chinese Academy of Sciences in Beijing, in 1997 C. F. Jeff Wu again suggested that statistics should be renamed data science. He reasoned that a new name would help statistics shed inaccurate stereotypes, such as being synonymous with accounting or limited to describing data.[24] In 1998, Hayashi Chikio argued for data science as a new, interdisciplinary concept, with three aspects: data design, collection, and analysis.[23]\n",
      "\n",
      "During the 1990s, popular terms for the process of finding patterns in datasets (which were increasingly large) included \"knowledge discovery\" and \"data mining\".[6][25]\n",
      "\n",
      "Modern usage\n",
      "In 2012, technologists Thomas H. Davenport and DJ Patil declared \"Data Scientist: The Sexiest Job of the 21st Century\",[26] a catchphrase that was picked up even by major-city newspapers like the New York Times[27] and the Boston Globe.[28] A decade later, they reaffirmed it, stating that \"the job is more in demand than ever with employers\".[29]\n",
      "\n",
      "The modern conception of data science as an independent discipline is sometimes attributed to William S. Cleveland.[30] In a 2001 paper, he advocated an expansion of statistics beyond theory into technical areas; because this would significantly change the field, it warranted a new name.[25] \"Data science\" became more widely used in the next few years: in 2002, the Committee on Data for Science and Technology launched the Data Science Journal. In 2003, Columbia University launched The Journal of Data Science.[25] In 2014, the American Statistical Association's Section on Statistical Learning and Data Mining changed its name to the Section on Statistical Learning and Data Science, reflecting the ascendant popularity of data science.[31]\n",
      "\n",
      "The professional title of \"data scientist\" has been attributed to DJ Patil and Jeff Hammerbacher in 2008.[32] Though it was used by the National Science Board in their 2005 report \"Long-Lived Digital Data Collections: Enabling Research and Education in the 21st Century\", it referred broadly to any key role in managing a digital data collection.[33]\n",
      "\n",
      "There is still no consensus on the definition of data science, and it is considered by some to be a buzzword.[34] Big data is a related marketing term.[35] Data scientists are responsible for breaking down big data into usable information and creating software and algorithms that help companies and organizations determine optimal operations.[36]\n"
     ]
    }
   ],
   "source": [
    "print(TEXT\n",
    "      )"
   ]
  },
  {
   "cell_type": "code",
   "execution_count": 23,
   "metadata": {},
   "outputs": [
    {
     "data": {
      "text/plain": [
       "'{\"1\": {\"mcq\": \"multiple choice question\", \"options\": {\"a\": \"choice here\", \"b\": \"choice here\", \"c\": \"choice here\", \"d\": \"choice here\"}, \"correct\": \"correct answer\"}, \"2\": {\"mcq\": \"multiple choice question\", \"options\": {\"a\": \"choice here\", \"b\": \"choice here\", \"c\": \"choice here\", \"d\": \"choice here\"}, \"correct\": \"correct answer\"}, \"3\": {\"mcq\": \"multiple choice question\", \"options\": {\"a\": \"choice here\", \"b\": \"choice here\", \"c\": \"choice here\", \"d\": \"choice here\"}, \"correct\": \"correct answer\"}}'"
      ]
     },
     "execution_count": 23,
     "metadata": {},
     "output_type": "execute_result"
    }
   ],
   "source": [
    "json.dumps(RESPONSE_JSON)"
   ]
  },
  {
   "cell_type": "code",
   "execution_count": 76,
   "metadata": {},
   "outputs": [],
   "source": [
    "NUMBER = 10\n",
    "SUBJECT = \"Data Science\"\n",
    "TONE = \"medium\""
   ]
  },
  {
   "cell_type": "code",
   "execution_count": 77,
   "metadata": {},
   "outputs": [
    {
     "name": "stdout",
     "output_type": "stream",
     "text": [
      "\n",
      "\n",
      "\u001b[1m> Entering new SequentialChain chain...\u001b[0m\n",
      "\n",
      "\n",
      "\u001b[1m> Entering new LLMChain chain...\u001b[0m\n",
      "Prompt after formatting:\n",
      "\u001b[32;1m\u001b[1;3m\n",
      "Text:Early usage\n",
      "In 1962, John Tukey described a field he called \"data analysis\", which resembles modern data science.[20] In 1985, in a lecture given to the Chinese Academy of Sciences in Beijing, C. F. Jeff Wu used the term \"data science\" for the first time as an alternative name for statistics.[21] Later, attendees at a 1992 statistics symposium at the University of Montpellier  II acknowledged the emergence of a new discipline focused on data of various origins and forms, combining established concepts and principles of statistics and data analysis with computing.[22][23]\n",
      "\n",
      "The term \"data science\" has been traced back to 1974, when Peter Naur proposed it as an alternative name to computer science.[6] In 1996, the International Federation of Classification Societies became the first conference to specifically feature data science as a topic.[6] However, the definition was still in flux. After the 1985 lecture at the Chinese Academy of Sciences in Beijing, in 1997 C. F. Jeff Wu again suggested that statistics should be renamed data science. He reasoned that a new name would help statistics shed inaccurate stereotypes, such as being synonymous with accounting or limited to describing data.[24] In 1998, Hayashi Chikio argued for data science as a new, interdisciplinary concept, with three aspects: data design, collection, and analysis.[23]\n",
      "\n",
      "During the 1990s, popular terms for the process of finding patterns in datasets (which were increasingly large) included \"knowledge discovery\" and \"data mining\".[6][25]\n",
      "\n",
      "Modern usage\n",
      "In 2012, technologists Thomas H. Davenport and DJ Patil declared \"Data Scientist: The Sexiest Job of the 21st Century\",[26] a catchphrase that was picked up even by major-city newspapers like the New York Times[27] and the Boston Globe.[28] A decade later, they reaffirmed it, stating that \"the job is more in demand than ever with employers\".[29]\n",
      "\n",
      "The modern conception of data science as an independent discipline is sometimes attributed to William S. Cleveland.[30] In a 2001 paper, he advocated an expansion of statistics beyond theory into technical areas; because this would significantly change the field, it warranted a new name.[25] \"Data science\" became more widely used in the next few years: in 2002, the Committee on Data for Science and Technology launched the Data Science Journal. In 2003, Columbia University launched The Journal of Data Science.[25] In 2014, the American Statistical Association's Section on Statistical Learning and Data Mining changed its name to the Section on Statistical Learning and Data Science, reflecting the ascendant popularity of data science.[31]\n",
      "\n",
      "The professional title of \"data scientist\" has been attributed to DJ Patil and Jeff Hammerbacher in 2008.[32] Though it was used by the National Science Board in their 2005 report \"Long-Lived Digital Data Collections: Enabling Research and Education in the 21st Century\", it referred broadly to any key role in managing a digital data collection.[33]\n",
      "\n",
      "There is still no consensus on the definition of data science, and it is considered by some to be a buzzword.[34] Big data is a related marketing term.[35] Data scientists are responsible for breaking down big data into usable information and creating software and algorithms that help companies and organizations determine optimal operations.[36]\n",
      "You are an expert MCQ maker. Given the above text, it is your job to create a quiz  of 10 multiple choice questions for Data Science students in medium tone. \n",
      "Make sure the questions are not repeated and check all the questions to be conforming the text as well.\n",
      "Make sure to format your response like  RESPONSE_JSON below that can be convertable into python dictionary and use it as a guide. Ensure to make 10 MCQs\n",
      "### RESPONSE_JSON\n",
      "{\"1\": {\"mcq\": \"multiple choice question\", \"options\": {\"a\": \"choice here\", \"b\": \"choice here\", \"c\": \"choice here\", \"d\": \"choice here\"}, \"correct\": \"correct answer\"}, \"2\": {\"mcq\": \"multiple choice question\", \"options\": {\"a\": \"choice here\", \"b\": \"choice here\", \"c\": \"choice here\", \"d\": \"choice here\"}, \"correct\": \"correct answer\"}, \"3\": {\"mcq\": \"multiple choice question\", \"options\": {\"a\": \"choice here\", \"b\": \"choice here\", \"c\": \"choice here\", \"d\": \"choice here\"}, \"correct\": \"correct answer\"}}\n",
      "\n",
      "\u001b[0m\n",
      "\n",
      "\u001b[1m> Finished chain.\u001b[0m\n",
      "\n",
      "\u001b[1m> Finished chain.\u001b[0m\n"
     ]
    }
   ],
   "source": [
    "# https://python.langchain.com/docs/modules/model_io/llms/token_usage_tracking\n",
    "\n",
    "# How to setup Token Usage Tracking in LangChain\n",
    "with get_openai_callback() as cb:\n",
    "    response = generate_evaluate_chain(\n",
    "        {\n",
    "            \"text\": TEXT,\n",
    "            \"number\": NUMBER,\n",
    "            \"subject\": SUBJECT,\n",
    "            \"tone\": TONE,\n",
    "            \"response_json\": json.dumps(RESPONSE_JSON),\n",
    "        }\n",
    "    )"
   ]
  },
  {
   "cell_type": "code",
   "execution_count": 55,
   "metadata": {},
   "outputs": [
    {
     "name": "stdout",
     "output_type": "stream",
     "text": [
      "Total Tokens:2651\n",
      "Prompt Tokens:1468\n",
      "Completion Tokens:1183\n",
      "Total Cost:0.0\n"
     ]
    }
   ],
   "source": [
    "print(f\"Total Tokens:{cb.total_tokens}\")\n",
    "print(f\"Prompt Tokens:{cb.prompt_tokens}\")\n",
    "print(f\"Completion Tokens:{cb.completion_tokens}\")\n",
    "print(f\"Total Cost:{cb.total_cost}\")"
   ]
  },
  {
   "cell_type": "code",
   "execution_count": 78,
   "metadata": {},
   "outputs": [
    {
     "data": {
      "text/plain": [
       "{'text': 'Early usage\\nIn 1962, John Tukey described a field he called \"data analysis\", which resembles modern data science.[20] In 1985, in a lecture given to the Chinese Academy of Sciences in Beijing, C. F. Jeff Wu used the term \"data science\" for the first time as an alternative name for statistics.[21] Later, attendees at a 1992 statistics symposium at the University of Montpellier  II acknowledged the emergence of a new discipline focused on data of various origins and forms, combining established concepts and principles of statistics and data analysis with computing.[22][23]\\n\\nThe term \"data science\" has been traced back to 1974, when Peter Naur proposed it as an alternative name to computer science.[6] In 1996, the International Federation of Classification Societies became the first conference to specifically feature data science as a topic.[6] However, the definition was still in flux. After the 1985 lecture at the Chinese Academy of Sciences in Beijing, in 1997 C. F. Jeff Wu again suggested that statistics should be renamed data science. He reasoned that a new name would help statistics shed inaccurate stereotypes, such as being synonymous with accounting or limited to describing data.[24] In 1998, Hayashi Chikio argued for data science as a new, interdisciplinary concept, with three aspects: data design, collection, and analysis.[23]\\n\\nDuring the 1990s, popular terms for the process of finding patterns in datasets (which were increasingly large) included \"knowledge discovery\" and \"data mining\".[6][25]\\n\\nModern usage\\nIn 2012, technologists Thomas H. Davenport and DJ Patil declared \"Data Scientist: The Sexiest Job of the 21st Century\",[26] a catchphrase that was picked up even by major-city newspapers like the New York Times[27] and the Boston Globe.[28] A decade later, they reaffirmed it, stating that \"the job is more in demand than ever with employers\".[29]\\n\\nThe modern conception of data science as an independent discipline is sometimes attributed to William S. Cleveland.[30] In a 2001 paper, he advocated an expansion of statistics beyond theory into technical areas; because this would significantly change the field, it warranted a new name.[25] \"Data science\" became more widely used in the next few years: in 2002, the Committee on Data for Science and Technology launched the Data Science Journal. In 2003, Columbia University launched The Journal of Data Science.[25] In 2014, the American Statistical Association\\'s Section on Statistical Learning and Data Mining changed its name to the Section on Statistical Learning and Data Science, reflecting the ascendant popularity of data science.[31]\\n\\nThe professional title of \"data scientist\" has been attributed to DJ Patil and Jeff Hammerbacher in 2008.[32] Though it was used by the National Science Board in their 2005 report \"Long-Lived Digital Data Collections: Enabling Research and Education in the 21st Century\", it referred broadly to any key role in managing a digital data collection.[33]\\n\\nThere is still no consensus on the definition of data science, and it is considered by some to be a buzzword.[34] Big data is a related marketing term.[35] Data scientists are responsible for breaking down big data into usable information and creating software and algorithms that help companies and organizations determine optimal operations.[36]',\n",
       " 'number': 10,\n",
       " 'subject': 'Data Science',\n",
       " 'tone': 'medium',\n",
       " 'response_json': '{\"1\": {\"mcq\": \"multiple choice question\", \"options\": {\"a\": \"choice here\", \"b\": \"choice here\", \"c\": \"choice here\", \"d\": \"choice here\"}, \"correct\": \"correct answer\"}, \"2\": {\"mcq\": \"multiple choice question\", \"options\": {\"a\": \"choice here\", \"b\": \"choice here\", \"c\": \"choice here\", \"d\": \"choice here\"}, \"correct\": \"correct answer\"}, \"3\": {\"mcq\": \"multiple choice question\", \"options\": {\"a\": \"choice here\", \"b\": \"choice here\", \"c\": \"choice here\", \"d\": \"choice here\"}, \"correct\": \"correct answer\"}}',\n",
       " 'quiz': '```json\\n{\\n  \"1\": {\\n    \"mcq\": \"Who first used the term \\\\\"data science\\\\\" as an alternative to statistics?\",\\n    \"options\": {\\n      \"a\": \"John Tukey\",\\n      \"b\": \"Peter Naur\",\\n      \"c\": \"C. F. Jeff Wu\",\\n      \"d\": \"William S. Cleveland\"\\n    },\\n    \"correct\": \"c\"\\n  },\\n  \"2\": {\\n    \"mcq\": \"In what year did C. F. Jeff Wu first suggest using \\\\\"data science\\\\\" as a replacement for \\\\\"statistics\\\\\"?\",\\n    \"options\": {\\n      \"a\": \"1974\",\\n      \"b\": \"1985\",\\n      \"c\": \"1997\",\\n      \"d\": \"2001\"\\n    },\\n    \"correct\": \"c\"\\n  },\\n  \"3\": {\\n    \"mcq\": \"Which year saw the International Federation of Classification Societies first feature data science as a conference topic?\",\\n    \"options\": {\\n      \"a\": \"1992\",\\n      \"b\": \"1996\",\\n      \"c\": \"1998\",\\n      \"d\": \"2002\"\\n    },\\n    \"correct\": \"b\"\\n  },\\n  \"4\": {\\n    \"mcq\": \"What popular terms were used in the 1990s to describe the process of finding patterns in large datasets?\",\\n    \"options\": {\\n      \"a\": \"Data analysis and data mining\",\\n      \"b\": \"Knowledge discovery and data mining\",\\n      \"c\": \"Big data and data science\",\\n      \"d\": \"Statistical learning and data science\"\\n    },\\n    \"correct\": \"b\"\\n  },\\n  \"5\": {\\n    \"mcq\": \"Who declared \\\\\"Data Scientist: The Sexiest Job of the 21st Century\\\\\" in 2012?\",\\n    \"options\": {\\n      \"a\": \"Jeff Hammerbacher and William S. Cleveland\",\\n      \"b\": \"Thomas H. Davenport and DJ Patil\",\\n      \"c\": \"Peter Naur and Hayashi Chikio\",\\n      \"d\": \"John Tukey and C. F. Jeff Wu\"\\n    },\\n    \"correct\": \"b\"\\n  },\\n  \"6\": {\\n    \"mcq\": \"Which year did the American Statistical Association\\'s Section on Statistical Learning and Data Mining change its name to reflect the growing popularity of data science?\",\\n    \"options\": {\\n      \"a\": \"2002\",\\n      \"b\": \"2003\",\\n      \"c\": \"2014\",\\n      \"d\": \"2008\"\\n    },\\n    \"correct\": \"c\"\\n  },\\n  \"7\": {\\n    \"mcq\": \"To whom is the professional title of \\\\\"data scientist\\\\\" often attributed, starting around 2008?\",\\n    \"options\": {\\n      \"a\": \"Thomas H. Davenport and DJ Patil\",\\n      \"b\": \"DJ Patil and Jeff Hammerbacher\",\\n      \"c\": \"William S. Cleveland and C. F. Jeff Wu\",\\n      \"d\": \"Peter Naur and Hayashi Chikio\"\\n    },\\n    \"correct\": \"b\"\\n  },\\n  \"8\": {\\n    \"mcq\": \"In what year did William S. Cleveland advocate for expanding statistics beyond theory into technical areas, suggesting a name change was warranted?\",\\n    \"options\": {\\n      \"a\": \"1997\",\\n      \"b\": \"2001\",\\n      \"c\": \"2002\",\\n      \"d\": \"2008\"\\n    },\\n    \"correct\": \"b\"\\n  },\\n  \"9\": {\\n    \"mcq\": \"According to the text, what is a related marketing term often associated with data science?\",\\n    \"options\": {\\n      \"a\": \"Knowledge discovery\",\\n      \"b\": \"Data mining\",\\n      \"c\": \"Big data\",\\n      \"d\": \"Statistical learning\"\\n    },\\n    \"correct\": \"c\"\\n  },\\n  \"10\": {\\n    \"mcq\": \"In 1962, who described a field resembling modern data science, calling it \\\\\"data analysis\\\\\"?\",\\n    \"options\": {\\n      \"a\": \"C. F. Jeff Wu\",\\n      \"b\": \"John Tukey\",\\n      \"c\": \"William S. Cleveland\",\\n      \"d\": \"DJ Patil\"\\n    },\\n    \"correct\": \"b\"\\n  }\\n}\\n```\\n',\n",
       " 'review': '```json\\n{\\n  \"1\": {\\n    \"mcq\": \"Who first used the term \\\\\"data science\\\\\" as an alternative name for statistics?\",\\n    \"options\": {\\n      \"a\": \"John Tukey\",\\n      \"b\": \"Peter Naur\",\\n      \"c\": \"C. F. Jeff Wu\",\\n      \"d\": \"William S. Cleveland\"\\n    },\\n    \"correct\": \"c\"\\n  },\\n  \"2\": {\\n    \"mcq\": \"In what year did C. F. Jeff Wu first suggest using \\\\\"data science\\\\\" as an alternative name for statistics?\",\\n    \"options\": {\\n      \"a\": \"1974\",\\n      \"b\": \"1985\",\\n      \"c\": \"1997\",\\n      \"d\": \"2001\"\\n    },\\n    \"correct\": \"b\"\\n  },\\n  \"3\": {\\n    \"mcq\": \"Which year saw the International Federation of Classification Societies first feature data science as a specific topic?\",\\n    \"options\": {\\n      \"a\": \"1992\",\\n      \"b\": \"1996\",\\n      \"c\": \"1998\",\\n      \"d\": \"2002\"\\n    },\\n    \"correct\": \"b\"\\n  },\\n  \"4\": {\\n    \"mcq\": \"What popular terms were used in the 1990s to describe the process of finding patterns in large datasets?\",\\n    \"options\": {\\n      \"a\": \"Data analysis and data mining\",\\n      \"b\": \"Knowledge discovery and data mining\",\\n      \"c\": \"Big data and data science\",\\n      \"d\": \"Statistical learning and data science\"\\n    },\\n    \"correct\": \"b\"\\n  },\\n  \"5\": {\\n    \"mcq\": \"Who declared \\\\\"Data Scientist: The Sexiest Job of the 21st Century\\\\\" in 2012?\",\\n    \"options\": {\\n      \"a\": \"Jeff Hammerbacher and William S. Cleveland\",\\n      \"b\": \"Thomas H. Davenport and DJ Patil\",\\n      \"c\": \"Hayashi Chikio and Peter Naur\",\\n      \"d\": \"John Tukey and C. F. Jeff Wu\"\\n    },\\n    \"correct\": \"b\"\\n  },\\n  \"6\": {\\n    \"mcq\": \"Which year did the American Statistical Association\\'s Section on Statistical Learning and Data Mining change its name to reflect the growing popularity of data science?\",\\n    \"options\": {\\n      \"a\": \"2002\",\\n      \"b\": \"2003\",\\n      \"c\": \"2014\",\\n      \"d\": \"2012\"\\n    },\\n    \"correct\": \"c\"\\n  },\\n  \"7\": {\\n    \"mcq\": \"To whom is the professional title of \\\\\"data scientist\\\\\" sometimes attributed in 2008?\",\\n    \"options\": {\\n      \"a\": \"John Tukey and C. F. Jeff Wu\",\\n      \"b\": \"Thomas H. Davenport and DJ Patil\",\\n      \"c\": \"DJ Patil and Jeff Hammerbacher\",\\n      \"d\": \"William S. Cleveland and Peter Naur\"\\n    },\\n    \"correct\": \"c\"\\n  },\\n  \"8\": {\\n    \"mcq\": \"In what year did William S. Cleveland advocate for an expansion of statistics, suggesting a new name was warranted?\",\\n    \"options\": {\\n      \"a\": \"1997\",\\n      \"b\": \"2001\",\\n      \"c\": \"2008\",\\n      \"d\": \"2012\"\\n    },\\n    \"correct\": \"b\"\\n  },\\n  \"9\": {\\n    \"mcq\": \"What is considered a related marketing term to data science, as mentioned in the text?\",\\n    \"options\": {\\n      \"a\": \"Knowledge discovery\",\\n      \"b\": \"Data mining\",\\n      \"c\": \"Big data\",\\n      \"d\": \"Statistical learning\"\\n    },\\n    \"correct\": \"c\"\\n  },\\n  \"10\": {\\n    \"mcq\": \"According to the text, what is a key responsibility of data scientists regarding big data?\",\\n    \"options\": {\\n      \"a\": \"Ignoring it completely\",\\n      \"b\": \"Breaking it down into usable information\",\\n      \"c\": \"Only focusing on theoretical aspects\",\\n      \"d\": \"Leaving it for others to handle\"\\n    },\\n    \"correct\": \"b\"\\n  }\\n}\\n```\\n'}"
      ]
     },
     "execution_count": 78,
     "metadata": {},
     "output_type": "execute_result"
    }
   ],
   "source": [
    "response"
   ]
  },
  {
   "cell_type": "code",
   "execution_count": 79,
   "metadata": {},
   "outputs": [],
   "source": [
    "quiz = response.get(\"quiz\")"
   ]
  },
  {
   "cell_type": "code",
   "execution_count": 80,
   "metadata": {},
   "outputs": [],
   "source": [
    "result =  llm.invoke(f\"{quiz} remove all backticks from it\")"
   ]
  },
  {
   "cell_type": "code",
   "execution_count": 81,
   "metadata": {},
   "outputs": [
    {
     "data": {
      "text/plain": [
       "'{\\n  \"1\": {\\n    \"mcq\": \"Who first used the term \\\\\"data science\\\\\" as an alternative to statistics?\",\\n    \"options\": {\\n      \"a\": \"John Tukey\",\\n      \"b\": \"Peter Naur\",\\n      \"c\": \"C. F. Jeff Wu\",\\n      \"d\": \"William S. Cleveland\"\\n    },\\n    \"correct\": \"c\"\\n  },\\n  \"2\": {\\n    \"mcq\": \"In what year did C. F. Jeff Wu first suggest using \\\\\"data science\\\\\" as a replacement for \\\\\"statistics\\\\\"?\",\\n    \"options\": {\\n      \"a\": \"1974\",\\n      \"b\": \"1985\",\\n      \"c\": \"1997\",\\n      \"d\": \"2001\"\\n    },\\n    \"correct\": \"c\"\\n  },\\n  \"3\": {\\n    \"mcq\": \"Which year saw the International Federation of Classification Societies first feature data science as a conference topic?\",\\n    \"options\": {\\n      \"a\": \"1992\",\\n      \"b\": \"1996\",\\n      \"c\": \"1998\",\\n      \"d\": \"2002\"\\n    },\\n    \"correct\": \"b\"\\n  },\\n  \"4\": {\\n    \"mcq\": \"What popular terms were used in the 1990s to describe the process of finding patterns in large datasets?\",\\n    \"options\": {\\n      \"a\": \"Data analysis and data mining\",\\n      \"b\": \"Knowledge discovery and data mining\",\\n      \"c\": \"Big data and data science\",\\n      \"d\": \"Statistical learning and data science\"\\n    },\\n    \"correct\": \"b\"\\n  },\\n  \"5\": {\\n    \"mcq\": \"Who declared \\\\\"Data Scientist: The Sexiest Job of the 21st Century\\\\\" in 2012?\",\\n    \"options\": {\\n      \"a\": \"Jeff Hammerbacher and William S. Cleveland\",\\n      \"b\": \"Thomas H. Davenport and DJ Patil\",\\n      \"c\": \"Peter Naur and Hayashi Chikio\",\\n      \"d\": \"John Tukey and C. F. Jeff Wu\"\\n    },\\n    \"correct\": \"b\"\\n  },\\n  \"6\": {\\n    \"mcq\": \"Which year did the American Statistical Association\\'s Section on Statistical Learning and Data Mining change its name to reflect the growing popularity of data science?\",\\n    \"options\": {\\n      \"a\": \"2002\",\\n      \"b\": \"2003\",\\n      \"c\": \"2014\",\\n      \"d\": \"2008\"\\n    },\\n    \"correct\": \"c\"\\n  },\\n  \"7\": {\\n    \"mcq\": \"To whom is the professional title of \\\\\"data scientist\\\\\" often attributed, starting around 2008?\",\\n    \"options\": {\\n      \"a\": \"Thomas H. Davenport and DJ Patil\",\\n      \"b\": \"DJ Patil and Jeff Hammerbacher\",\\n      \"c\": \"William S. Cleveland and C. F. Jeff Wu\",\\n      \"d\": \"Peter Naur and Hayashi Chikio\"\\n    },\\n    \"correct\": \"b\"\\n  },\\n  \"8\": {\\n    \"mcq\": \"In what year did William S. Cleveland advocate for expanding statistics beyond theory into technical areas, suggesting a name change was warranted?\",\\n    \"options\": {\\n      \"a\": \"1997\",\\n      \"b\": \"2001\",\\n      \"c\": \"2002\",\\n      \"d\": \"2008\"\\n    },\\n    \"correct\": \"b\"\\n  },\\n  \"9\": {\\n    \"mcq\": \"According to the text, what is a related marketing term often associated with data science?\",\\n    \"options\": {\\n      \"a\": \"Knowledge discovery\",\\n      \"b\": \"Data mining\",\\n      \"c\": \"Big data\",\\n      \"d\": \"Statistical learning\"\\n    },\\n    \"correct\": \"c\"\\n  },\\n  \"10\": {\\n    \"mcq\": \"In 1962, who described a field resembling modern data science, calling it \\\\\"data analysis\\\\\"?\",\\n    \"options\": {\\n      \"a\": \"C. F. Jeff Wu\",\\n      \"b\": \"John Tukey\",\\n      \"c\": \"William S. Cleveland\",\\n      \"d\": \"DJ Patil\"\\n    },\\n    \"correct\": \"b\"\\n  }\\n}\\n'"
      ]
     },
     "execution_count": 81,
     "metadata": {},
     "output_type": "execute_result"
    }
   ],
   "source": [
    "result.content"
   ]
  },
  {
   "cell_type": "code",
   "execution_count": 82,
   "metadata": {},
   "outputs": [],
   "source": [
    "quiz = json.loads(result.content)"
   ]
  },
  {
   "cell_type": "code",
   "execution_count": 68,
   "metadata": {},
   "outputs": [
    {
     "data": {
      "text/plain": [
       "{'1': {'mcq': 'What early technology is considered a precursor to cloud computing, popularized through remote job entry (RJE)?',\n",
       "  'options': {'a': 'The Internet',\n",
       "   'b': 'Time-sharing',\n",
       "   'c': 'Mainframe computers',\n",
       "   'd': 'Virtualization'},\n",
       "  'correct': 'b'},\n",
       " '2': {'mcq': \"Who is credited with popularizing the 'cloud' metaphor for virtualized services in 1994, drawing from its use in networking and telecom?\",\n",
       "  'options': {'a': 'Jeff Bezos',\n",
       "   'b': 'Bill Gates',\n",
       "   'c': 'David Hoffman',\n",
       "   'd': 'Mark Zuckerberg'},\n",
       "  'correct': 'c'},\n",
       " '3': {'mcq': \"Which company's 1996 business plan significantly contributed to the wider recognition of the term 'cloud computing', anticipating the success of online consumer file storage?\",\n",
       "  'options': {'a': 'IBM',\n",
       "   'b': 'Microsoft',\n",
       "   'c': 'Compaq Computer Corporation',\n",
       "   'd': 'Apple'},\n",
       "  'correct': 'c'},\n",
       " '4': {'mcq': 'In what year did Amazon Web Services (AWS) launch, marking a significant step in the development of cloud computing as we know it?',\n",
       "  'options': {'a': '2006', 'b': '2008', 'c': '2002', 'd': '2010'},\n",
       "  'correct': 'c'},\n",
       " '5': {'mcq': 'Which major cloud service was launched by Microsoft in 2010?',\n",
       "  'options': {'a': 'AWS',\n",
       "   'b': 'OpenStack',\n",
       "   'c': 'Microsoft Azure',\n",
       "   'd': 'Oracle Cloud'},\n",
       "  'correct': 'c'},\n",
       " '6': {'mcq': 'What AWS service, launched in December 2019, extends AWS infrastructure to customer data centers and other on-premises locations?',\n",
       "  'options': {'a': 'Amazon S3',\n",
       "   'b': 'Amazon EC2',\n",
       "   'c': 'AWS Outposts',\n",
       "   'd': 'IBM SmartCloud'},\n",
       "  'correct': 'c'}}"
      ]
     },
     "execution_count": 68,
     "metadata": {},
     "output_type": "execute_result"
    }
   ],
   "source": [
    "quiz"
   ]
  },
  {
   "cell_type": "code",
   "execution_count": 83,
   "metadata": {},
   "outputs": [],
   "source": [
    "quiz_table_data = []\n",
    "for key, value in quiz.items():\n",
    "    mcq = value[\"mcq\"]\n",
    "    options = \" | \".join(\n",
    "        [\n",
    "            f\"{option}: {option_value}\"\n",
    "            for option, option_value in value[\"options\"].items()\n",
    "        ]\n",
    "    )\n",
    "    correct = value[\"correct\"]\n",
    "    quiz_table_data.append({\"MCQ\": mcq, \"Choices\": options, \"Correct\": correct})"
   ]
  },
  {
   "cell_type": "code",
   "execution_count": 84,
   "metadata": {},
   "outputs": [
    {
     "data": {
      "text/plain": [
       "[{'MCQ': 'Who first used the term \"data science\" as an alternative to statistics?',\n",
       "  'Choices': 'a: John Tukey | b: Peter Naur | c: C. F. Jeff Wu | d: William S. Cleveland',\n",
       "  'Correct': 'c'},\n",
       " {'MCQ': 'In what year did C. F. Jeff Wu first suggest using \"data science\" as a replacement for \"statistics\"?',\n",
       "  'Choices': 'a: 1974 | b: 1985 | c: 1997 | d: 2001',\n",
       "  'Correct': 'c'},\n",
       " {'MCQ': 'Which year saw the International Federation of Classification Societies first feature data science as a conference topic?',\n",
       "  'Choices': 'a: 1992 | b: 1996 | c: 1998 | d: 2002',\n",
       "  'Correct': 'b'},\n",
       " {'MCQ': 'What popular terms were used in the 1990s to describe the process of finding patterns in large datasets?',\n",
       "  'Choices': 'a: Data analysis and data mining | b: Knowledge discovery and data mining | c: Big data and data science | d: Statistical learning and data science',\n",
       "  'Correct': 'b'},\n",
       " {'MCQ': 'Who declared \"Data Scientist: The Sexiest Job of the 21st Century\" in 2012?',\n",
       "  'Choices': 'a: Jeff Hammerbacher and William S. Cleveland | b: Thomas H. Davenport and DJ Patil | c: Peter Naur and Hayashi Chikio | d: John Tukey and C. F. Jeff Wu',\n",
       "  'Correct': 'b'},\n",
       " {'MCQ': \"Which year did the American Statistical Association's Section on Statistical Learning and Data Mining change its name to reflect the growing popularity of data science?\",\n",
       "  'Choices': 'a: 2002 | b: 2003 | c: 2014 | d: 2008',\n",
       "  'Correct': 'c'},\n",
       " {'MCQ': 'To whom is the professional title of \"data scientist\" often attributed, starting around 2008?',\n",
       "  'Choices': 'a: Thomas H. Davenport and DJ Patil | b: DJ Patil and Jeff Hammerbacher | c: William S. Cleveland and C. F. Jeff Wu | d: Peter Naur and Hayashi Chikio',\n",
       "  'Correct': 'b'},\n",
       " {'MCQ': 'In what year did William S. Cleveland advocate for expanding statistics beyond theory into technical areas, suggesting a name change was warranted?',\n",
       "  'Choices': 'a: 1997 | b: 2001 | c: 2002 | d: 2008',\n",
       "  'Correct': 'b'},\n",
       " {'MCQ': 'According to the text, what is a related marketing term often associated with data science?',\n",
       "  'Choices': 'a: Knowledge discovery | b: Data mining | c: Big data | d: Statistical learning',\n",
       "  'Correct': 'c'},\n",
       " {'MCQ': 'In 1962, who described a field resembling modern data science, calling it \"data analysis\"?',\n",
       "  'Choices': 'a: C. F. Jeff Wu | b: John Tukey | c: William S. Cleveland | d: DJ Patil',\n",
       "  'Correct': 'b'}]"
      ]
     },
     "execution_count": 84,
     "metadata": {},
     "output_type": "execute_result"
    }
   ],
   "source": [
    "quiz_table_data"
   ]
  },
  {
   "cell_type": "code",
   "execution_count": 85,
   "metadata": {},
   "outputs": [],
   "source": [
    "quiz = pd.DataFrame(quiz_table_data)"
   ]
  },
  {
   "cell_type": "code",
   "execution_count": 86,
   "metadata": {},
   "outputs": [
    {
     "data": {
      "text/html": [
       "<div>\n",
       "<style scoped>\n",
       "    .dataframe tbody tr th:only-of-type {\n",
       "        vertical-align: middle;\n",
       "    }\n",
       "\n",
       "    .dataframe tbody tr th {\n",
       "        vertical-align: top;\n",
       "    }\n",
       "\n",
       "    .dataframe thead th {\n",
       "        text-align: right;\n",
       "    }\n",
       "</style>\n",
       "<table border=\"1\" class=\"dataframe\">\n",
       "  <thead>\n",
       "    <tr style=\"text-align: right;\">\n",
       "      <th></th>\n",
       "      <th>MCQ</th>\n",
       "      <th>Choices</th>\n",
       "      <th>Correct</th>\n",
       "    </tr>\n",
       "  </thead>\n",
       "  <tbody>\n",
       "    <tr>\n",
       "      <th>0</th>\n",
       "      <td>Who first used the term \"data science\" as an a...</td>\n",
       "      <td>a: John Tukey | b: Peter Naur | c: C. F. Jeff ...</td>\n",
       "      <td>c</td>\n",
       "    </tr>\n",
       "    <tr>\n",
       "      <th>1</th>\n",
       "      <td>In what year did C. F. Jeff Wu first suggest u...</td>\n",
       "      <td>a: 1974 | b: 1985 | c: 1997 | d: 2001</td>\n",
       "      <td>c</td>\n",
       "    </tr>\n",
       "    <tr>\n",
       "      <th>2</th>\n",
       "      <td>Which year saw the International Federation of...</td>\n",
       "      <td>a: 1992 | b: 1996 | c: 1998 | d: 2002</td>\n",
       "      <td>b</td>\n",
       "    </tr>\n",
       "    <tr>\n",
       "      <th>3</th>\n",
       "      <td>What popular terms were used in the 1990s to d...</td>\n",
       "      <td>a: Data analysis and data mining | b: Knowledg...</td>\n",
       "      <td>b</td>\n",
       "    </tr>\n",
       "    <tr>\n",
       "      <th>4</th>\n",
       "      <td>Who declared \"Data Scientist: The Sexiest Job ...</td>\n",
       "      <td>a: Jeff Hammerbacher and William S. Cleveland ...</td>\n",
       "      <td>b</td>\n",
       "    </tr>\n",
       "    <tr>\n",
       "      <th>5</th>\n",
       "      <td>Which year did the American Statistical Associ...</td>\n",
       "      <td>a: 2002 | b: 2003 | c: 2014 | d: 2008</td>\n",
       "      <td>c</td>\n",
       "    </tr>\n",
       "    <tr>\n",
       "      <th>6</th>\n",
       "      <td>To whom is the professional title of \"data sci...</td>\n",
       "      <td>a: Thomas H. Davenport and DJ Patil | b: DJ Pa...</td>\n",
       "      <td>b</td>\n",
       "    </tr>\n",
       "    <tr>\n",
       "      <th>7</th>\n",
       "      <td>In what year did William S. Cleveland advocate...</td>\n",
       "      <td>a: 1997 | b: 2001 | c: 2002 | d: 2008</td>\n",
       "      <td>b</td>\n",
       "    </tr>\n",
       "    <tr>\n",
       "      <th>8</th>\n",
       "      <td>According to the text, what is a related marke...</td>\n",
       "      <td>a: Knowledge discovery | b: Data mining | c: B...</td>\n",
       "      <td>c</td>\n",
       "    </tr>\n",
       "    <tr>\n",
       "      <th>9</th>\n",
       "      <td>In 1962, who described a field resembling mode...</td>\n",
       "      <td>a: C. F. Jeff Wu | b: John Tukey | c: William ...</td>\n",
       "      <td>b</td>\n",
       "    </tr>\n",
       "  </tbody>\n",
       "</table>\n",
       "</div>"
      ],
      "text/plain": [
       "                                                 MCQ  \\\n",
       "0  Who first used the term \"data science\" as an a...   \n",
       "1  In what year did C. F. Jeff Wu first suggest u...   \n",
       "2  Which year saw the International Federation of...   \n",
       "3  What popular terms were used in the 1990s to d...   \n",
       "4  Who declared \"Data Scientist: The Sexiest Job ...   \n",
       "5  Which year did the American Statistical Associ...   \n",
       "6  To whom is the professional title of \"data sci...   \n",
       "7  In what year did William S. Cleveland advocate...   \n",
       "8  According to the text, what is a related marke...   \n",
       "9  In 1962, who described a field resembling mode...   \n",
       "\n",
       "                                             Choices Correct  \n",
       "0  a: John Tukey | b: Peter Naur | c: C. F. Jeff ...       c  \n",
       "1              a: 1974 | b: 1985 | c: 1997 | d: 2001       c  \n",
       "2              a: 1992 | b: 1996 | c: 1998 | d: 2002       b  \n",
       "3  a: Data analysis and data mining | b: Knowledg...       b  \n",
       "4  a: Jeff Hammerbacher and William S. Cleveland ...       b  \n",
       "5              a: 2002 | b: 2003 | c: 2014 | d: 2008       c  \n",
       "6  a: Thomas H. Davenport and DJ Patil | b: DJ Pa...       b  \n",
       "7              a: 1997 | b: 2001 | c: 2002 | d: 2008       b  \n",
       "8  a: Knowledge discovery | b: Data mining | c: B...       c  \n",
       "9  a: C. F. Jeff Wu | b: John Tukey | c: William ...       b  "
      ]
     },
     "execution_count": 86,
     "metadata": {},
     "output_type": "execute_result"
    }
   ],
   "source": [
    "quiz"
   ]
  },
  {
   "cell_type": "code",
   "execution_count": null,
   "metadata": {},
   "outputs": [],
   "source": []
  }
 ],
 "metadata": {
  "kernelspec": {
   "display_name": "env",
   "language": "python",
   "name": "python3"
  },
  "language_info": {
   "codemirror_mode": {
    "name": "ipython",
    "version": 3
   },
   "file_extension": ".py",
   "mimetype": "text/x-python",
   "name": "python",
   "nbconvert_exporter": "python",
   "pygments_lexer": "ipython3",
   "version": "3.12.8"
  }
 },
 "nbformat": 4,
 "nbformat_minor": 2
}
